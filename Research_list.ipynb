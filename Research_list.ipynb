{
 "cells": [
  {
   "cell_type": "markdown",
   "metadata": {},
   "source": [
    "# TODO:"
   ]
  },
  {
   "cell_type": "code",
   "execution_count": null,
   "metadata": {
    "collapsed": true
   },
   "outputs": [],
   "source": []
  },
  {
   "cell_type": "markdown",
   "metadata": {},
   "source": [
    "## Cross validation test"
   ]
  },
  {
   "cell_type": "markdown",
   "metadata": {},
   "source": [
    "    1. sbc_train, sbds_train, sbvs_train, sf_train\n",
    "    2. sbc_train, sbds_train, sbvs_train\n",
    "    3. |sbc_train, sbds_train, sbvs_train, sf_train| + del i<0 or i>40 corr\n",
    "    4. |sbc_train, sbds_train, sbvs_train, sf_train| + del i<0 corr \n",
    "    5. |sbc_train, sbds_train, sbvs_train, sf_train| + del i<15\n",
    "    6. |sbc_train, sbds_train, sbvs_train, sf_train| + del i<20\n",
    "    7. |...| + del i<15 + Nan=median \n",
    "    8. |...| + del i<15 + Nan=median StandartScaler"
   ]
  },
  {
   "cell_type": "markdown",
   "metadata": {},
   "source": [
    "#### ROC-AUC mean s_split"
   ]
  },
  {
   "cell_type": "markdown",
   "metadata": {},
   "source": [
    "|Ridge|Ridge_clf|LogReg|LinReg|\n",
    "|---|---|---|---|\n",
    "|0.5376392527626352|0.5410130354390484|0.5497445940220279|0.5377670119871867|\n",
    "|0.5376392527626352|0.5330338288524697|0.5409022275926738|0.5318039999170436|\n",
    "|0.53763925|0.544169|0.54183|0.542095|\n",
    "|0.53763|0.543664|0.54207|0.540652|\n",
    "|0.5376|0.5424|0.5397|0.548103|\n",
    "|0.53763|0.5502|0.54096|0.5500|\n",
    "|0.5376|0.5444|0.5484|0.5527|"
   ]
  },
  {
   "cell_type": "markdown",
   "metadata": {},
   "source": [
    "<hr>"
   ]
  },
  {
   "cell_type": "markdown",
   "metadata": {},
   "source": [
    "#### ROC-AUC mean k_fold"
   ]
  },
  {
   "cell_type": "markdown",
   "metadata": {},
   "source": [
    "|Ridge|Ridge_clf|LogReg|LinReg|\n",
    "|---|---|---|---|\n",
    "|0.5547742081689483|0.5547742081689483|0.5531483765025319|0.5476853924966483|\n",
    "|0.5374635206671193|0.5374635206671193|0.5461702934056725|0.5376955240566438|\n",
    "|0.55957542|0.55957|0.549553|0.554422|\n",
    "|0.5596971|0.5596|0.549691|0.551601|\n",
    "|0.56153|0.561533|0.54438|0.56265|\n",
    "|0.5610954|0.5610954|0.54179|0.565792|\n",
    "|0.5600284|0.56002|0.5638|0.5642409|"
   ]
  },
  {
   "cell_type": "markdown",
   "metadata": {},
   "source": [
    "<hr>"
   ]
  },
  {
   "cell_type": "markdown",
   "metadata": {},
   "source": [
    "#### NMSE for s_split"
   ]
  },
  {
   "cell_type": "markdown",
   "metadata": {},
   "source": [
    "|Ridge|Ridge_clf|LogReg|LinReg|\n",
    "|---|---|---|---|\n",
    "|0.37041|0.40001549|0.3980433542|3.0584695|\n",
    "|0.366463|0.39823838|0.398043354|0.3671543|\n",
    "|0.369344|0.400613|0.398043|12.59414|\n",
    "|0.369470|0.40001|0.3980|33.11365|\n",
    "|0.367141|0.39843|0.39804|0.70462|\n",
    "|0.3656|0.3984|0.398043|0.674607|\n",
    "|0.37136759|0.40237968|0.4014008|0.66814037|"
   ]
  },
  {
   "cell_type": "markdown",
   "metadata": {},
   "source": [
    "<hr>"
   ]
  },
  {
   "cell_type": "markdown",
   "metadata": {},
   "source": [
    "#### NMSE for k_fold"
   ]
  },
  {
   "cell_type": "markdown",
   "metadata": {},
   "source": [
    "|Ridge|Ridge_clf|LogReg|LinReg|\n",
    "|---|---|---|---|\n",
    "|0.365611215|0.396179|0.3937916| 121483109.5|\n",
    "|0.363012|0.3943868|0.3940975|0.3637253|\n",
    "|0.3646506|0.396184|0.39379|37.9013|\n",
    "|0.3646|0.3958|0.39379|56.5253|\n",
    "|0.3629|0.395| 0.3937|0.7339|\n",
    "|0.36221|0.395602|0.39409|0.67881|\n",
    "|0.36742653|0.39856938|0.39680|0.72578183|"
   ]
  },
  {
   "cell_type": "markdown",
   "metadata": {},
   "source": [
    "<hr>"
   ]
  },
  {
   "cell_type": "code",
   "execution_count": null,
   "metadata": {
    "collapsed": true
   },
   "outputs": [],
   "source": []
  }
 ],
 "metadata": {
  "kernelspec": {
   "display_name": "Python 3",
   "language": "python",
   "name": "python3"
  },
  "language_info": {
   "codemirror_mode": {
    "name": "ipython",
    "version": 3
   },
   "file_extension": ".py",
   "mimetype": "text/x-python",
   "name": "python",
   "nbconvert_exporter": "python",
   "pygments_lexer": "ipython3",
   "version": "3.6.6"
  }
 },
 "nbformat": 4,
 "nbformat_minor": 2
}
