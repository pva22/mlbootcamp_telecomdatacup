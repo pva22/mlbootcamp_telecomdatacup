{
 "cells": [
  {
   "cell_type": "code",
   "execution_count": 1,
   "metadata": {
    "collapsed": true
   },
   "outputs": [],
   "source": [
    "import pandas as pd\n",
    "import matplotlib.pyplot as plt\n",
    "import seaborn as sns\n",
    "import numpy as np\n",
    "sns.set()\n",
    "%matplotlib inline\n",
    "import warnings\n",
    "warnings.filterwarnings('ignore')\n",
    "from tqdm import tqdm_notebook"
   ]
  },
  {
   "cell_type": "code",
   "execution_count": 2,
   "metadata": {
    "collapsed": true
   },
   "outputs": [],
   "source": [
    "train = pd.read_csv('csi_analyze/dataset/train/subs_csi_train.csv',sep=';')"
   ]
  },
  {
   "cell_type": "code",
   "execution_count": 3,
   "metadata": {
    "collapsed": true
   },
   "outputs": [],
   "source": [
    "test = pd.read_csv('csi_analyze/dataset/test/subs_csi_test.csv',sep=';')"
   ]
  },
  {
   "cell_type": "code",
   "execution_count": 4,
   "metadata": {},
   "outputs": [
    {
     "data": {
      "text/html": [
       "<div>\n",
       "<style scoped>\n",
       "    .dataframe tbody tr th:only-of-type {\n",
       "        vertical-align: middle;\n",
       "    }\n",
       "\n",
       "    .dataframe tbody tr th {\n",
       "        vertical-align: top;\n",
       "    }\n",
       "\n",
       "    .dataframe thead th {\n",
       "        text-align: right;\n",
       "    }\n",
       "</style>\n",
       "<table border=\"1\" class=\"dataframe\">\n",
       "  <thead>\n",
       "    <tr style=\"text-align: right;\">\n",
       "      <th></th>\n",
       "      <th>SK_ID</th>\n",
       "      <th>CSI</th>\n",
       "      <th>CONTACT_DATE</th>\n",
       "    </tr>\n",
       "  </thead>\n",
       "  <tbody>\n",
       "    <tr>\n",
       "      <th>0</th>\n",
       "      <td>2</td>\n",
       "      <td>0</td>\n",
       "      <td>4.05</td>\n",
       "    </tr>\n",
       "    <tr>\n",
       "      <th>1</th>\n",
       "      <td>3</td>\n",
       "      <td>0</td>\n",
       "      <td>21.05</td>\n",
       "    </tr>\n",
       "    <tr>\n",
       "      <th>2</th>\n",
       "      <td>4</td>\n",
       "      <td>0</td>\n",
       "      <td>27.05</td>\n",
       "    </tr>\n",
       "    <tr>\n",
       "      <th>3</th>\n",
       "      <td>5</td>\n",
       "      <td>0</td>\n",
       "      <td>8.05</td>\n",
       "    </tr>\n",
       "    <tr>\n",
       "      <th>4</th>\n",
       "      <td>6</td>\n",
       "      <td>1</td>\n",
       "      <td>6.05</td>\n",
       "    </tr>\n",
       "  </tbody>\n",
       "</table>\n",
       "</div>"
      ],
      "text/plain": [
       "   SK_ID  CSI  CONTACT_DATE\n",
       "0      2    0          4.05\n",
       "1      3    0         21.05\n",
       "2      4    0         27.05\n",
       "3      5    0          8.05\n",
       "4      6    1          6.05"
      ]
     },
     "execution_count": 4,
     "metadata": {},
     "output_type": "execute_result"
    }
   ],
   "source": [
    "train.head(5)"
   ]
  },
  {
   "cell_type": "code",
   "execution_count": 5,
   "metadata": {},
   "outputs": [
    {
     "data": {
      "text/plain": [
       "0    3566\n",
       "1     656\n",
       "Name: CSI, dtype: int64"
      ]
     },
     "execution_count": 5,
     "metadata": {},
     "output_type": "execute_result"
    }
   ],
   "source": [
    "train.CSI.value_counts()"
   ]
  },
  {
   "cell_type": "code",
   "execution_count": null,
   "metadata": {
    "collapsed": true
   },
   "outputs": [],
   "source": []
  },
  {
   "cell_type": "markdown",
   "metadata": {},
   "source": [
    "|name|mean|\n",
    "|---|---|\n",
    "|subs_features|В таблице содержится информация о динамике изменения коммерческих характеристик абонентов, прошедших опрос CSI за последний год до опроса. Временная гранулярность данных =  месяц. Уровень агрегации = абонент.|\n",
    "|subs_bs_consumption|В таблице содержится информация об объеме потребления сервисов (голос, данные на всех сотах) абонентами, прошедшими опрос CSI за последний год  до опроса. Временная гранулярность = месяц Уровень агрегации = абонент / сота|\n",
    "|subs_bs_data_session|В таблице содержится информация времени и продолжительности DATA-сессий абонентов в привязке к сотам, за последние два месяца до опроса CSI. Временная гранулярность  = сессия. Уровень аграгации =  абонент/сота|\n",
    "|subs_bs_voice_session|В таблице содержится информация времени и продолжительности VOICE-сессий абонентов в привязке к сотам, за последние два месяца до опроса CSI. Временная гранулярность  = сессия. Уровень аграгации =  абонент/сота|"
   ]
  },
  {
   "cell_type": "markdown",
   "metadata": {},
   "source": [
    "Features for train"
   ]
  },
  {
   "cell_type": "code",
   "execution_count": 7,
   "metadata": {
    "collapsed": true
   },
   "outputs": [],
   "source": [
    "subs_bs_consumption_train = pd.read_csv('csi_analyze/dataset/train/subs_bs_consumption_train.csv',sep=';', decimal=',')\n",
    "\n",
    "subs_bs_data_session_train = pd.read_csv('csi_analyze/dataset/train/subs_bs_data_session_train.csv',sep=';', decimal=',')\n",
    "subs_features_train = pd.read_csv('csi_analyze/dataset/train/subs_features_train.csv',sep=';', decimal=',')\n",
    "subs_bs_voice_session_train = pd.read_csv('csi_analyze/dataset/train/subs_bs_voice_session_train.csv',sep=';', decimal=',')"
   ]
  },
  {
   "cell_type": "markdown",
   "metadata": {},
   "source": [
    "Features for test"
   ]
  },
  {
   "cell_type": "code",
   "execution_count": 8,
   "metadata": {
    "collapsed": true
   },
   "outputs": [],
   "source": [
    "subs_bs_consumption_test = pd.read_csv('csi_analyze/dataset/test/subs_bs_consumption_test.csv',sep=';', decimal=',')\n",
    "\n",
    "subs_bs_data_session_test = pd.read_csv('csi_analyze/dataset/test/subs_bs_data_session_test.csv',sep=';', decimal=',')\n",
    "subs_features_test = pd.read_csv('csi_analyze/dataset/test/subs_features_test.csv',sep=';', decimal=',')\n",
    "subs_bs_voice_session_test = pd.read_csv('csi_analyze/dataset/test/subs_bs_voice_session_test.csv',sep=';', decimal=',')"
   ]
  },
  {
   "cell_type": "markdown",
   "metadata": {},
   "source": [
    "### subs_bs_consumption - sbc"
   ]
  },
  {
   "cell_type": "code",
   "execution_count": 15,
   "metadata": {},
   "outputs": [
    {
     "data": {
      "text/html": [
       "<div>\n",
       "<style scoped>\n",
       "    .dataframe tbody tr th:only-of-type {\n",
       "        vertical-align: middle;\n",
       "    }\n",
       "\n",
       "    .dataframe tbody tr th {\n",
       "        vertical-align: top;\n",
       "    }\n",
       "\n",
       "    .dataframe thead th {\n",
       "        text-align: right;\n",
       "    }\n",
       "</style>\n",
       "<table border=\"1\" class=\"dataframe\">\n",
       "  <thead>\n",
       "    <tr style=\"text-align: right;\">\n",
       "      <th></th>\n",
       "      <th>SK_ID</th>\n",
       "      <th>CELL_LAC_ID</th>\n",
       "      <th>MON</th>\n",
       "      <th>SUM_MINUTES</th>\n",
       "      <th>SUM_DATA_MB</th>\n",
       "      <th>SUM_DATA_MIN</th>\n",
       "    </tr>\n",
       "  </thead>\n",
       "  <tbody>\n",
       "    <tr>\n",
       "      <th>0</th>\n",
       "      <td>1827</td>\n",
       "      <td>240277</td>\n",
       "      <td>01.03</td>\n",
       "      <td>0.000000</td>\n",
       "      <td>2.430000e-06</td>\n",
       "      <td>0.000234</td>\n",
       "    </tr>\n",
       "    <tr>\n",
       "      <th>773</th>\n",
       "      <td>3852</td>\n",
       "      <td>240277</td>\n",
       "      <td>01.04</td>\n",
       "      <td>0.000000</td>\n",
       "      <td>1.700000e-07</td>\n",
       "      <td>0.000233</td>\n",
       "    </tr>\n",
       "    <tr>\n",
       "      <th>855</th>\n",
       "      <td>3852</td>\n",
       "      <td>240277</td>\n",
       "      <td>01.03</td>\n",
       "      <td>0.000069</td>\n",
       "      <td>1.470000e-06</td>\n",
       "      <td>0.000466</td>\n",
       "    </tr>\n",
       "    <tr>\n",
       "      <th>141915</th>\n",
       "      <td>3852</td>\n",
       "      <td>240277</td>\n",
       "      <td>01.05</td>\n",
       "      <td>0.000433</td>\n",
       "      <td>1.170000e-06</td>\n",
       "      <td>0.000467</td>\n",
       "    </tr>\n",
       "    <tr>\n",
       "      <th>219128</th>\n",
       "      <td>2601</td>\n",
       "      <td>240277</td>\n",
       "      <td>01.05</td>\n",
       "      <td>0.000020</td>\n",
       "      <td>0.000000e+00</td>\n",
       "      <td>0.000000</td>\n",
       "    </tr>\n",
       "    <tr>\n",
       "      <th>580851</th>\n",
       "      <td>2601</td>\n",
       "      <td>240277</td>\n",
       "      <td>01.03</td>\n",
       "      <td>0.000264</td>\n",
       "      <td>0.000000e+00</td>\n",
       "      <td>0.000000</td>\n",
       "    </tr>\n",
       "    <tr>\n",
       "      <th>943927</th>\n",
       "      <td>4602</td>\n",
       "      <td>240277</td>\n",
       "      <td>01.03</td>\n",
       "      <td>0.000060</td>\n",
       "      <td>0.000000e+00</td>\n",
       "      <td>0.000000</td>\n",
       "    </tr>\n",
       "  </tbody>\n",
       "</table>\n",
       "</div>"
      ],
      "text/plain": [
       "        SK_ID  CELL_LAC_ID    MON  SUM_MINUTES   SUM_DATA_MB  SUM_DATA_MIN\n",
       "0        1827       240277  01.03     0.000000  2.430000e-06      0.000234\n",
       "773      3852       240277  01.04     0.000000  1.700000e-07      0.000233\n",
       "855      3852       240277  01.03     0.000069  1.470000e-06      0.000466\n",
       "141915   3852       240277  01.05     0.000433  1.170000e-06      0.000467\n",
       "219128   2601       240277  01.05     0.000020  0.000000e+00      0.000000\n",
       "580851   2601       240277  01.03     0.000264  0.000000e+00      0.000000\n",
       "943927   4602       240277  01.03     0.000060  0.000000e+00      0.000000"
      ]
     },
     "execution_count": 15,
     "metadata": {},
     "output_type": "execute_result"
    }
   ],
   "source": [
    "subs_bs_consumption_train[subs_bs_consumption_train.CELL_LAC_ID == 240277]"
   ]
  },
  {
   "cell_type": "markdown",
   "metadata": {},
   "source": [
    "    TODO: взять медиану, создать список из времени и CELL_LAC_ID и заюзать 2 датасета допов"
   ]
  },
  {
   "cell_type": "code",
   "execution_count": 32,
   "metadata": {
    "collapsed": true
   },
   "outputs": [],
   "source": [
    "title_mapping = {1.03 : 3, 1.02 : 2, 1.04 : 4, 1.05 : 5}\n",
    "\n",
    "subs_bs_consumption_train.MON = subs_bs_consumption_train.MON.map(title_mapping)\n",
    "subs_bs_consumption_test.MON = subs_bs_consumption_test.MON.map(title_mapping)"
   ]
  },
  {
   "cell_type": "code",
   "execution_count": 34,
   "metadata": {
    "scrolled": true
   },
   "outputs": [
    {
     "name": "stderr",
     "output_type": "stream",
     "text": [
      "Widget Javascript not detected.  It may not be installed or enabled properly.\n"
     ]
    },
    {
     "data": {
      "application/vnd.jupyter.widget-view+json": {
       "model_id": "a557c86e42b544fc8f48f6d8c96b4fb2"
      }
     },
     "metadata": {},
     "output_type": "display_data"
    },
    {
     "name": "stdout",
     "output_type": "stream",
     "text": [
      "\n",
      "CPU times: user 3min 37s, sys: 950 ms, total: 3min 38s\n",
      "Wall time: 3min 36s\n"
     ]
    }
   ],
   "source": [
    "%%time\n",
    "sbc_train = []\n",
    "\n",
    "for user in tqdm_notebook(subs_bs_consumption_train.SK_ID.unique()):\n",
    "    d = {}\n",
    "    d['user_id'] = user\n",
    "    for col in subs_bs_consumption_train.columns[1:]:\n",
    "        \n",
    "        if col == 'CELL_LAC_ID':\n",
    "            #id соты и время \n",
    "            cell_list = subs_bs_consumption_train[subs_bs_consumption_train.SK_ID == user][col].values\n",
    "            #time_list = subs_bs_consumption_train[subs_bs_consumption_train.SK_ID == user]['START_TIME'].values\n",
    "            d['sbc_cell_for_time'] = cell_list\n",
    "            #d['sbc_time_for_cell'] = time_list\n",
    "        \n",
    "        elif col == 'MON':\n",
    "            #месяц расчёта показателей\n",
    "            d['mon_mean'] =    subs_bs_consumption_train[subs_bs_consumption_train.SK_ID == user][col].mean()\n",
    "            d['mon_sum'] =     subs_bs_consumption_train[subs_bs_consumption_train.SK_ID == user][col].sum()\n",
    "            d['mon_std'] =     subs_bs_consumption_train[subs_bs_consumption_train.SK_ID == user][col].std()\n",
    "            d['mon_median'] =     subs_bs_consumption_train[subs_bs_consumption_train.SK_ID == user][col].median()\n",
    "            d['mon_sum_log'] = np.log(subs_bs_consumption_train[subs_bs_consumption_train.SK_ID == user][col].sum())\n",
    "        \n",
    "        elif col == 'SUM_MINUTES':\n",
    "            #суммарный голосовой трафик\n",
    "            sum_min = subs_bs_consumption_train[subs_bs_consumption_train.SK_ID == user][col]\n",
    "            sum_min = sum_min.map(lambda x: float(x.replace(',','0.')), na_action='ignore')\n",
    "            d['sum_min_sum'] =  sum_min.sum()\n",
    "            d['sum_min_mean'] = sum_min.mean()\n",
    "            d['sum_min_max'] =  sum_min.max()\n",
    "            d['sum_min_median'] =  sum_min.median()\n",
    "            d['sum_min_log_sum'] = np.log(sum_min.sum())\n",
    "            d['sum_min_std'] =  sum_min.std()\n",
    "            \n",
    "            \n",
    "        elif col == 'SUM_DATA_MB':\n",
    "            #суммарный трафик данных\n",
    "            sum_data_mb = subs_bs_consumption_train[subs_bs_consumption_train.SK_ID == user][col]\n",
    "            sum_data_mb = sum_data_mb.map(lambda x: float(x.replace(',','0.')), na_action='ignore')\n",
    "            d['sum_data_mb_sum'] = sum_data_mb.sum()\n",
    "            d['sum_data_mb_mean'] = sum_data_mb.mean()\n",
    "            d['sum_data_mb_max'] = sum_data_mb.max()\n",
    "            d['sum_data_mb_median'] = sum_data_mb.median()\n",
    "            d['sum_data_mb_log_sum'] = np.log(sum_data_mb.sum())\n",
    "            d['sum_data_mb_std'] = sum_data_mb.std()\n",
    "            \n",
    "        elif col == 'SUM_DATA_MIN':\n",
    "            #суммарная продолжительность потребления данных \n",
    "            sum_data_min = subs_bs_consumption_train[subs_bs_consumption_train.SK_ID == user][col]\n",
    "            sum_data_min = sum_data_min.map(lambda x: float(x.replace(',','0.')), na_action='ignore')\n",
    "            d['sum_data_min_sum'] = sum_data_min.sum()\n",
    "            d['sum_data_min_mean'] = sum_data_min.mean()\n",
    "            d['sum_data_min_max'] = sum_data_min.max()\n",
    "            d['sum_data_min_median'] = sum_data_min.median()\n",
    "            d['sum_data_min_log_sum'] = np.log(sum_data_min.sum())\n",
    "            d['sum_data_min_std'] = sum_data_min.std()\n",
    "    sbc_train.append(d)"
   ]
  },
  {
   "cell_type": "code",
   "execution_count": 35,
   "metadata": {},
   "outputs": [
    {
     "name": "stderr",
     "output_type": "stream",
     "text": [
      "Widget Javascript not detected.  It may not be installed or enabled properly.\n"
     ]
    },
    {
     "data": {
      "application/vnd.jupyter.widget-view+json": {
       "model_id": "b01da4d5608b4a789f0ab55c1d1dbe15"
      }
     },
     "metadata": {},
     "output_type": "display_data"
    },
    {
     "name": "stdout",
     "output_type": "stream",
     "text": [
      "\n",
      "CPU times: user 10min 39s, sys: 2.77 s, total: 10min 41s\n",
      "Wall time: 10min 38s\n"
     ]
    }
   ],
   "source": [
    "%%time\n",
    "sbc_test = []\n",
    "\n",
    "for user in tqdm_notebook(subs_bs_consumption_test.SK_ID.unique()):\n",
    "    d = {}\n",
    "    d['user_id'] = user\n",
    "    for col in subs_bs_consumption_test.columns[1:]:\n",
    "        \n",
    "        \n",
    "        if col == 'CELL_LAC_ID':\n",
    "            cell_list = subs_bs_consumption_test[subs_bs_consumption_test.SK_ID == user][col].values\n",
    "            #time_list = subs_bs_consumption_test[subs_bs_consumption_test.SK_ID == user]['START_TIME'].values\n",
    "            d['sbc_cell_for_time'] = cell_list\n",
    "            #d['sbc_time_for_cell'] = time_list\n",
    "            \n",
    "        elif col == 'MON':\n",
    "            d['mon_mean'] =    subs_bs_consumption_test[subs_bs_consumption_test.SK_ID == user][col].mean()\n",
    "            d['mon_sum'] =     subs_bs_consumption_test[subs_bs_consumption_test.SK_ID == user][col].sum()\n",
    "            d['mon_std'] =     subs_bs_consumption_test[subs_bs_consumption_test.SK_ID == user][col].std()\n",
    "            d['mon_median'] =     subs_bs_consumption_train[subs_bs_consumption_test.SK_ID == user][col].median()\n",
    "            d['mon_sum_log'] = np.log(subs_bs_consumption_test[subs_bs_consumption_test.SK_ID == user][col].sum())\n",
    "        \n",
    "        elif col == 'SUM_MINUTES':\n",
    "            sum_min = subs_bs_consumption_test[subs_bs_consumption_test.SK_ID == user][col]\n",
    "            sum_min = sum_min.map(lambda x: float(x.replace(',','0.')), na_action='ignore')\n",
    "            d['sum_min_sum'] =  sum_min.sum()\n",
    "            d['sum_min_mean'] = sum_min.mean()\n",
    "            d['sum_min_max'] =  sum_min.max()\n",
    "            d['sum_min_median'] =  sum_min.median()\n",
    "            d['sum_min_log_sum'] = np.log(sum_min.sum())\n",
    "            d['sum_min_std'] =  sum_min.std()\n",
    "            \n",
    "            \n",
    "        elif col == 'SUM_DATA_MB':\n",
    "            sum_data_mb = subs_bs_consumption_test[subs_bs_consumption_test.SK_ID == user][col]\n",
    "            sum_data_mb = sum_data_mb.map(lambda x: float(x.replace(',','0.')), na_action='ignore')\n",
    "            d['sum_data_mb_sum'] = sum_data_mb.sum()\n",
    "            d['sum_data_mb_mean'] = sum_data_mb.mean()\n",
    "            d['sum_data_mb_max'] = sum_data_mb.max()\n",
    "            d['sum_data_mb_median'] = sum_data_mb.median()\n",
    "            d['sum_data_mb_log_sum'] = np.log(sum_data_mb.sum())\n",
    "            d['sum_data_mb_std'] = sum_data_mb.std()\n",
    "            \n",
    "        elif col == 'SUM_DATA_MIN':\n",
    "            sum_data_min = subs_bs_consumption_test[subs_bs_consumption_test.SK_ID == user][col]\n",
    "            sum_data_min = sum_data_min.map(lambda x: float(x.replace(',','0.')), na_action='ignore')\n",
    "            d['sum_data_min_sum'] = sum_data_min.sum()\n",
    "            d['sum_data_min_mean'] = sum_data_min.mean()\n",
    "            d['sum_data_min_max'] = sum_data_min.max()\n",
    "            d['sum_data_min_median'] = sum_data_min.median()\n",
    "            d['sum_data_min_log_sum'] = np.log(sum_data_min.sum())\n",
    "            d['sum_data_min_std'] = sum_data_min.std()\n",
    "    sbc_test.append(d)"
   ]
  },
  {
   "cell_type": "code",
   "execution_count": 76,
   "metadata": {},
   "outputs": [
    {
     "name": "stdout",
     "output_type": "stream",
     "text": [
      "5211 4215\n"
     ]
    }
   ],
   "source": [
    "print(len(sbc_test), len(sbc_train))"
   ]
  },
  {
   "cell_type": "markdown",
   "metadata": {},
   "source": [
    "### subs_features - sf"
   ]
  },
  {
   "cell_type": "code",
   "execution_count": 218,
   "metadata": {},
   "outputs": [
    {
     "data": {
      "text/plain": [
       "3189     5\n",
       "3737     5\n",
       "8125     5\n",
       "11269    5\n",
       "12298    5\n",
       "16484    5\n",
       "20734    5\n",
       "21116    5\n",
       "25273    5\n",
       "31692    5\n",
       "32233    5\n",
       "37849    5\n",
       "Name: COM_CAT#3, dtype: int64"
      ]
     },
     "execution_count": 218,
     "metadata": {},
     "output_type": "execute_result"
    }
   ],
   "source": [
    "subs_features_train[subs_features_train.SK_ID == 75]['COM_CAT#3']"
   ]
  },
  {
   "cell_type": "code",
   "execution_count": null,
   "metadata": {
    "collapsed": true
   },
   "outputs": [],
   "source": [
    "COM_CAT#3"
   ]
  },
  {
   "cell_type": "code",
   "execution_count": 206,
   "metadata": {},
   "outputs": [
    {
     "name": "stderr",
     "output_type": "stream",
     "text": [
      "Widget Javascript not detected.  It may not be installed or enabled properly.\n"
     ]
    },
    {
     "data": {
      "application/vnd.jupyter.widget-view+json": {
       "model_id": "488d6f0e74db42229218dafd20fcce2f"
      }
     },
     "metadata": {},
     "output_type": "display_data"
    },
    {
     "name": "stdout",
     "output_type": "stream",
     "text": [
      "\n",
      "CPU times: user 4min 41s, sys: 1.64 s, total: 4min 43s\n",
      "Wall time: 4min 42s\n"
     ]
    }
   ],
   "source": [
    "%%time\n",
    "sf_train = []\n",
    "\n",
    "for user in tqdm_notebook(subs_features_train.SK_ID.unique()):\n",
    "    d = {}\n",
    "    d['user_id'] = user\n",
    "    \n",
    "    for col in subs_features_train.columns[1:]:\n",
    "        \n",
    "        #SNAP DATE\n",
    "        \n",
    "        if col == \"COM_CAT#1\":\n",
    "            com_cat1 = subs_features_train[subs_features_train.SK_ID == user][col]\n",
    "            #com_cat1 = com_cat1.map(lambda x: float(x.replace(',','0.')), na_action='ignore')\n",
    "            if len(com_cat1.unique()) == 1:\n",
    "                d['com_cat1'] = com_cat1.unique()[0]\n",
    "            else:\n",
    "                d['com_cat1_mean'] = com_cat1.mean()\n",
    "            \n",
    "\n",
    "        elif col == \"COM_CAT#2\":\n",
    "            com_cat2 = subs_features_train[subs_features_train.SK_ID == user][col]\n",
    "            #com_cat2 = com_cat2.map(lambda x: float(x.replace(',','0.')), na_action='ignore')\n",
    "            d['com_cat2_mean'] = com_cat2.mean()\n",
    "            d['com_cat2_sum'] = com_cat2.sum()\n",
    "            d['com_cat2_std'] = com_cat2.std()\n",
    "            d['com_cat2_median'] = com_cat2.median()\n",
    "            d['com_cat2_sum_log'] = np.log(com_cat2.sum())\n",
    "\n",
    "        elif col == \"COM_CAT#3\":\n",
    "            com_cat3 = subs_features_train[subs_features_train.SK_ID == user][col]\n",
    "            #com_cat3 = com_cat3.map(lambda x: float(x.replace(',','0.')), na_action='ignore')\n",
    "            \n",
    "            if len(com_cat3.unique()) == 1:\n",
    "                d['com_cat3'] = com_cat3.unique()[0]\n",
    "            else:\n",
    "                d['com_cat3_mean'] = com_cat3.mean()\n",
    "                \n",
    "#             d['com_cat3_mean'] = com_cat3.mean()\n",
    "#             d['com_cat3_sum'] = com_cat3.sum()\n",
    "#             d['com_cat3_std'] = com_cat3.std()\n",
    "#             d['com_cat3_median'] = com_cat3.median()\n",
    "#             d['com_cat3_sum_log'] = np.log(com_cat3.sum())\n",
    "\n",
    "        elif col == \"BASE_TYPE\":\n",
    "            #новая или старая абоненская база\n",
    "            base_type = subs_features_train[subs_features_train.SK_ID == user][col]\n",
    "            #base_type = base_type.map(lambda x: float(x.replace(',','0.')), na_action='ignore')\n",
    "            if len(base_type.unique()) == 1:\n",
    "                d['base_type'] = base_type.unique()[0]\n",
    "            else:\n",
    "                d['base_type_mean'] = base_type.mean()\n",
    "            \n",
    "            \n",
    "        elif col == \"ACT\":\n",
    "            #активность абонента\n",
    "            act = subs_features_train[subs_features_train.SK_ID == user][col]\n",
    "            #act = act.map(lambda x: float(x.replace(',','0.')), na_action='ignore')\n",
    "            if len(act.unique()) == 1:\n",
    "                d['act'] = act.unique()[0]\n",
    "            else:\n",
    "                d['act_mean'] = act.mean()\n",
    "                \n",
    "\n",
    "        elif col == \"ARPU_GROUP\":\n",
    "            #группа по ARPU абонента\n",
    "            act_group = subs_features_train[subs_features_train.SK_ID == user][col]\n",
    "            #act_group = act_group.map(lambda x: float(x.replace(',','0.')), na_action='ignore')\n",
    "            d['act_group_mean'] = act_group.mean()\n",
    "            d['act_group_sum'] = act_group.sum()\n",
    "            d['act_group_std'] = act_group.std()\n",
    "            d['act_group_median'] = act_group.median()\n",
    "            d['act_group_sum_log'] = np.log(act_group.sum())\n",
    "\n",
    "        elif col == \"COM_CAT#7\":\n",
    "            com_cat7 = subs_features_train[subs_features_train.SK_ID == user][col]\n",
    "            #com_cat7 = com_cat7.map(lambda x: float(x.replace(',','0.')), na_action='ignore')\n",
    "            d['com_cat7_mean'] = com_cat7.mean()\n",
    "            d['com_cat7_sum'] = com_cat7.sum()\n",
    "            d['com_cat7_std'] = com_cat7.std()\n",
    "            d['com_cat7_median'] = com_cat7.median()\n",
    "            d['com_cat7_sum_log'] = np.log(com_cat7.sum())\n",
    "\n",
    "        elif col == \"COM_CAT#8\":\n",
    "            com_cat8 = subs_features_train[subs_features_train.SK_ID == user][col]\n",
    "            #com_cat8 = com_cat8.map(lambda x: float(x.replace(',','0.')), na_action='ignore')\n",
    "            d['com_cat8_mean'] = com_cat8.mean()\n",
    "            d['com_cat8_sum'] = com_cat8.sum()\n",
    "            d['com_cat8_std'] = com_cat8.std()\n",
    "            d['com_cat8_median'] = com_cat8.median()\n",
    "            d['com_cat8_sum_log'] = np.log(com_cat8.sum())\n",
    "\n",
    "        elif col == \"DEVICE_TYPE_ID\":\n",
    "            #тип устройства\n",
    "            device_type_id = subs_features_train[subs_features_train.SK_ID == user][col]\n",
    "            #device_type_id = device_type_id.map(lambda x: float(x.replace(',','0.')), na_action='ignore')\n",
    "            if len(device_type_id.unique()) == 1:\n",
    "                d['device_type_id'] = device_type_id.unique()[0]\n",
    "            else:\n",
    "                d['device_type_id_mean'] = device_type_id.mean()\n",
    "                \n",
    "#             d['device_type_id_mean'] = device_type_id.mean()\n",
    "#             d['device_type_id_sum'] = device_type_id.sum()\n",
    "#             d['device_type_id_std'] = device_type_id.std()\n",
    "#             d['device_type_id_median'] = device_type_id.median()\n",
    "#             d['device_type_id_sum_loрg'] = np.log(device_type_id.sum())\n",
    "\n",
    "        elif col == \"INTERNET_TYPE_ID\":\n",
    "            #технология устр (2G/3G)\n",
    "            INTERNET_TYPE_ID = subs_features_train[subs_features_train.SK_ID == user][col]\n",
    "            #INTERNET_TYPE_ID = INTERNET_TYPE_ID.map(lambda x: float(x.replace(',','0.')), na_action='ignore')\n",
    "            \n",
    "            if len(INTERNET_TYPE_ID.unique()) == 1:\n",
    "                d['INTERNET_TYPE_ID'] = INTERNET_TYPE_ID.unique()[0]\n",
    "            else:\n",
    "                d['INTERNET_TYPE_ID_mean'] = INTERNET_TYPE_ID.mean()\n",
    "                \n",
    "#             d['INTERNET_TYPE_ID_mean'] = INTERNET_TYPE_ID.mean()\n",
    "#             d['INTERNET_TYPE_ID_sum'] = INTERNET_TYPE_ID.sum()\n",
    "#             d['INTERNET_TYPE_ID_std'] = INTERNET_TYPE_ID.std()\n",
    "#             d['INTERNET_TYPE_ID_median'] = INTERNET_TYPE_ID.median()\n",
    "#             d['INTERNET_TYPE_ID_sum_loрg'] = np.log(INTERNET_TYPE_ID.sum())\n",
    " \n",
    "        elif col == \"REVENUE\":\n",
    "            #выручка\n",
    "            REVENUE = subs_features_train[subs_features_train.SK_ID == user][col]\n",
    "            REVENUE = REVENUE.map(lambda x: float(x.replace(',','0.')), na_action='ignore')\n",
    "            d['REVENUE_mean'] = REVENUE.mean()\n",
    "            d['REVENUE_sum'] = REVENUE.sum()\n",
    "            d['REVENUE_std'] = REVENUE.std()\n",
    "            d['REVENUE_median'] = REVENUE.median()\n",
    "            d['REVENUE_sum_loрg'] = np.log(REVENUE.sum())\n",
    " \n",
    "        elif col == \"ITC\":\n",
    "            #расходы на интерконнект\n",
    "            ITC = subs_features_train[subs_features_train.SK_ID == user][col]\n",
    "            ITC = ITC.map(lambda x: float(x.replace(',','0.')), na_action='ignore')\n",
    "            d['ITC_mean'] = ITC.mean()\n",
    "            d['ITC_sum'] = ITC.sum()\n",
    "            d['ITC_std'] = ITC.std()\n",
    "            d['ITC_median'] = ITC.median()\n",
    "            d['ITC_sum_loрg'] = np.log(ITC.sum())\n",
    "     \n",
    "        elif col == \"VAS\":\n",
    "            #расходы на VAS\n",
    "            VAS = subs_features_train[subs_features_train.SK_ID == user][col]\n",
    "            VAS = VAS.map(lambda x: float(x.replace(',','0.')), na_action='ignore')\n",
    "            d['VAS_mean'] = VAS.mean()\n",
    "            d['VAS_sum'] = VAS.sum()\n",
    "            d['VAS_std'] = VAS.std()\n",
    "            d['VAS_median'] = VAS.median()\n",
    "            d['VAS_sum_loрg'] = np.log(VAS.sum())\n",
    "     \n",
    "        elif col == \"RENT_CHANNEL\":\n",
    "            #расходы на аренду каналов\n",
    "            RENT_CHANNEL = subs_features_train[subs_features_train.SK_ID == user][col]\n",
    "            RENT_CHANNEL = RENT_CHANNEL.map(lambda x: float(x.replace(',','0.')), na_action='ignore')\n",
    "            d['RENT_CHANNEL_mean'] = RENT_CHANNEL.mean()\n",
    "            d['RENT_CHANNEL_sum'] = RENT_CHANNEL.sum()\n",
    "            d['RENT_CHANNEL_std'] = RENT_CHANNEL.std()\n",
    "            d['RENT_CHANNEL_median'] = RENT_CHANNEL.median()\n",
    "            d['RENT_CHANNEL_sum_loрg'] = np.log(RENT_CHANNEL.sum())\n",
    "            \n",
    "     \n",
    "        elif col == \"ROAM\":\n",
    "            # раходы на роуминг \n",
    "            ROAM = subs_features_train[subs_features_train.SK_ID == user][col]\n",
    "            ROAM = ROAM.map(lambda x: float(x.replace(',','0.')), na_action='ignore')\n",
    "            d['ROAM_mean'] = ROAM.mean()\n",
    "            d['ROAM_sum'] = ROAM.sum()\n",
    "            d['ROAM_std'] = ROAM.std()\n",
    "            d['ROAM_median'] = ROAM.median()\n",
    "            d['ROAM_sum_loрg'] = np.log(ROAM.sum())\n",
    "     \n",
    "        elif col == \"COST\":\n",
    "            #себестоимость \n",
    "            COST = subs_features_train[subs_features_train.SK_ID == user][col]\n",
    "            COST = COST.map(lambda x: float(x.replace(',','0.')), na_action='ignore')\n",
    "            d['COST_mean'] = COST.mean()\n",
    "            d['COST_sum'] = COST.sum()\n",
    "            d['COST_std'] = COST.std()\n",
    "            d['COST_median'] = COST.median()\n",
    "            d['COST_sum_loрg'] = np.log(COST.sum())\n",
    "     \n",
    "        elif col == \"COM_CAT#17\":\n",
    "            com_cat17 = subs_features_train[subs_features_train.SK_ID == user][col]\n",
    "            com_cat17 = com_cat17.map(lambda x: float(x.replace(',','0.')), na_action='ignore')\n",
    "            d['com_cat17_mean'] = com_cat17.mean()\n",
    "            d['com_cat17_sum'] = com_cat17.sum()\n",
    "            d['com_cat17_std'] = com_cat17.std()\n",
    "            d['com_cat17_median'] = com_cat17.median()\n",
    "            d['com_cat17_sum_log'] = np.log(com_cat17.sum())\n",
    "\n",
    "        elif col == \"COM_CAT#18\":\n",
    "            com_cat18 = subs_features_train[subs_features_train.SK_ID == user][col]\n",
    "            com_cat18 = com_cat18.map(lambda x: float(x.replace(',','0.')), na_action='ignore')\n",
    "            d['com_cat18_mean'] = com_cat18.mean()\n",
    "            d['com_cat18_sum'] = com_cat18.sum()\n",
    "            d['com_cat18_std'] = com_cat18.std()\n",
    "            d['com_cat18_median'] = com_cat18.median()\n",
    "            d['com_cat18_sum_log'] = np.log(com_cat18.sum())\n",
    "\n",
    "        elif col == \"COM_CAT#19\":\n",
    "            com_cat19 = subs_features_train[subs_features_train.SK_ID == user][col]\n",
    "            com_cat19 = com_cat19.map(lambda x: float(x.replace(',','0.')), na_action='ignore')\n",
    "            d['com_cat19_mean'] = com_cat19.mean()\n",
    "            d['com_cat19_sum'] = com_cat19.sum()\n",
    "            d['com_cat19_std'] = com_cat19.std()\n",
    "            d['com_cat19_median'] = com_cat19.median()\n",
    "            d['com_cat19_sum_log'] = np.log(com_cat19.sum())\n",
    "\n",
    "        elif col == \"COM_CAT#20\":\n",
    "            com_cat20 = subs_features_train[subs_features_train.SK_ID == user][col]\n",
    "            com_cat20 = com_cat20.map(lambda x: float(x.replace(',','0.')), na_action='ignore')\n",
    "            d['com_cat20_mean'] = com_cat20.mean()\n",
    "            d['com_cat20_sum'] = com_cat20.sum()\n",
    "            d['com_cat20_std'] = com_cat20.std()\n",
    "            d['com_cat20_median'] = com_cat20.median()\n",
    "            d['com_cat20_sum_log'] = np.log(com_cat20.sum())\n",
    "\n",
    "        elif col == \"COM_CAT#21\":\n",
    "            com_cat21 = subs_features_train[subs_features_train.SK_ID == user][col]\n",
    "            com_cat21 = com_cat21.map(lambda x: float(x.replace(',','0.')), na_action='ignore')\n",
    "            d['com_cat21_mean'] = com_cat21.mean()\n",
    "            d['com_cat21_sum'] = com_cat21.sum()\n",
    "            d['com_cat21_std'] = com_cat21.std()\n",
    "            d['com_cat21_median'] = com_cat21.median()\n",
    "            d['com_cat21_sum_log'] = np.log(com_cat21.sum())\n",
    "\n",
    "        elif col == \"COM_CAT#22\":\n",
    "            com_cat22 = subs_features_train[subs_features_train.SK_ID == user][col]\n",
    "            com_cat22 = com_cat22.map(lambda x: float(x.replace(',','0.')), na_action='ignore')\n",
    "            d['com_cat22_mean'] = com_cat22.mean()\n",
    "            d['com_cat22_sum'] = com_cat22.sum()\n",
    "            d['com_cat22_std'] = com_cat22.std()\n",
    "            d['com_cat22_median'] = com_cat22.median()\n",
    "            d['com_cat22_sum_log'] = np.log(com_cat22.sum())\n",
    "\n",
    "        elif col == \"COM_CAT#23\":\n",
    "            com_cat23 = subs_features_train[subs_features_train.SK_ID == user][col]\n",
    "            com_cat23 = com_cat23.map(lambda x: float(x.replace(',','0.')), na_action='ignore')\n",
    "            d['com_cat23_mean'] = com_cat23.mean()\n",
    "            d['com_cat23_sum'] = com_cat23.sum()\n",
    "            d['com_cat23_std'] = com_cat23.std()\n",
    "            d['com_cat23_median'] = com_cat23.median()\n",
    "            d['com_cat23_sum_log'] = np.log(com_cat23.sum())\n",
    "\n",
    "        elif col == \"COM_CAT#24\":\n",
    "            com_cat24 = subs_features_train[subs_features_train.SK_ID == user][col]\n",
    "            #com_cat24 = com_cat24.map(lambda x: float(x.replace(',','0.')), na_action='ignore')\n",
    "            if len(com_cat24.unique()) == 1:\n",
    "                d['com_cat24'] = com_cat24.unique()[0]\n",
    "            else:\n",
    "                d['com_cat24_mean'] = com_cat24.mean()\n",
    "#             d['com_cat24_mean'] = com_cat24.mean()\n",
    "#             d['com_cat24_sum'] = com_cat24.sum()\n",
    "#             d['com_cat24_std'] = com_cat24.std()\n",
    "#             d['com_cat24_median'] = com_cat24.median()\n",
    "#             d['com_cat24_sum_log'] = np.log(com_cat24.sum())\n",
    "            \n",
    "\n",
    "        elif col == \"COM_CAT#25\":\n",
    "            com_cat25 = subs_features_train[subs_features_train.SK_ID == user][col]\n",
    "            #com_cat25 = com_cat25.map(lambda x: float(x.replace(',','0.')), na_action='ignore')\n",
    "            \n",
    "            if len(com_cat25.unique()) == 1:\n",
    "                d['com_cat25'] = com_cat25.unique()[0]\n",
    "            else:\n",
    "                d['com_cat25_mean'] = com_cat25.mean()\n",
    "                \n",
    "#             d['com_cat25_mean'] = com_cat25.mean()\n",
    "#             d['com_cat25_sum'] = com_cat25.sum()\n",
    "#             d['com_cat25_std'] = com_cat25.std()\n",
    "#             d['com_cat25_median'] = com_cat25.median()\n",
    "#             d['com_cat25_sum_log'] = np.log(com_cat25.sum())\n",
    "\n",
    "        elif col == \"COM_CAT#26\":\n",
    "            com_cat26 = subs_features_train[subs_features_train.SK_ID == user][col]\n",
    "            #com_cat26 = com_cat26.map(lambda x: float(x.replace(',','0.')), na_action='ignore')\n",
    "            if len(com_cat26.unique()) == 1:\n",
    "                d['com_cat26'] = com_cat26.unique()[0]\n",
    "            else:\n",
    "                d['com_cat26_mean'] = com_cat26.mean()\n",
    "                \n",
    "#             d['com_cat26_mean'] = com_cat26.mean()\n",
    "#             d['com_cat26_sum'] = com_cat26.sum()\n",
    "#             d['com_cat26_std'] = com_cat26.std()\n",
    "#             d['com_cat26_median'] = com_cat26.median()\n",
    "#             d['com_cat26_sum_log'] = np.log(com_cat26.sum())\n",
    "\n",
    "        elif col == \"COM_CAT#27\":\n",
    "            com_cat27 = subs_features_train[subs_features_train.SK_ID == user][col]\n",
    "            com_cat27 = com_cat27.map(lambda x: float(x.replace(',','0.')), na_action='ignore')\n",
    "            d['com_cat27_mean'] = com_cat27.mean()\n",
    "            d['com_cat27_sum'] = com_cat27.sum()\n",
    "            d['com_cat27_std'] = com_cat27.std()\n",
    "            d['com_cat27_median'] = com_cat27.median()\n",
    "            d['com_cat27_sum_log'] = np.log(com_cat27.sum())\n",
    "\n",
    "        elif col == \"COM_CAT#28\":\n",
    "            com_cat28 = subs_features_train[subs_features_train.SK_ID == user][col]\n",
    "            com_cat28 = com_cat28.map(lambda x: float(x.replace(',','0.')), na_action='ignore')\n",
    "            d['com_cat28_mean'] = com_cat28.mean()\n",
    "            d['com_cat28_sum'] = com_cat28.sum()\n",
    "            d['com_cat28_std'] = com_cat28.std()\n",
    "            d['com_cat28_median'] = com_cat28.median()\n",
    "            d['com_cat28_sum_log'] = np.log(com_cat28.sum())\n",
    "\n",
    "        elif col == \"COM_CAT#29\":\n",
    "            com_cat29 = subs_features_train[subs_features_train.SK_ID == user][col]\n",
    "            com_cat29 = com_cat29.map(lambda x: float(x.replace(',','0.')), na_action='ignore')\n",
    "            d['com_cat29_mean'] = com_cat29.mean()\n",
    "            d['com_cat29_sum'] = com_cat29.sum()\n",
    "            d['com_cat29_std'] = com_cat29.std()\n",
    "            d['com_cat29_median'] = com_cat29.median()\n",
    "            d['com_cat29_sum_log'] = np.log(com_cat29.sum())\n",
    "\n",
    "        elif col == \"COM_CAT#30\":\n",
    "            com_cat30 = subs_features_train[subs_features_train.SK_ID == user][col]\n",
    "            com_cat30 = com_cat30.map(lambda x: float(x.replace(',','0.')), na_action='ignore')\n",
    "            d['com_cat30_mean'] = com_cat30.mean()\n",
    "            d['com_cat30_sum'] = com_cat30.sum()\n",
    "            d['com_cat30_std'] = com_cat30.std()\n",
    "            d['com_cat30_median'] = com_cat30.median()\n",
    "            d['com_cat30_sum_log'] = np.log(com_cat30.sum())\n",
    "\n",
    "        elif col == \"COM_CAT#31\":\n",
    "            com_cat31 = subs_features_train[subs_features_train.SK_ID == user][col]\n",
    "            com_cat31 = com_cat31.map(lambda x: float(x.replace(',','0.')), na_action='ignore')\n",
    "            d['com_cat31_mean'] = com_cat31.mean()\n",
    "            d['com_cat31_sum'] = com_cat31.sum()\n",
    "            d['com_cat31_std'] = com_cat31.std()\n",
    "            d['com_cat31_median'] = com_cat31.median()\n",
    "            d['com_cat31_sum_log'] = np.log(com_cat31.sum())\n",
    "\n",
    "        elif col == \"COM_CAT#32\":\n",
    "            com_cat32 = subs_features_train[subs_features_train.SK_ID == user][col]\n",
    "            com_cat32 = com_cat32.map(lambda x: float(x.replace(',','0.')), na_action='ignore')\n",
    "            d['com_cat32_mean'] = com_cat32.mean()\n",
    "            d['com_cat32_sum'] = com_cat32.sum()\n",
    "            d['com_cat32_std'] = com_cat32.std()\n",
    "            d['com_cat32_median'] = com_cat32.median()\n",
    "            d['com_cat32_sum_log'] = np.log(com_cat32.sum())\n",
    "\n",
    "        elif col == \"COM_CAT#33\":\n",
    "            com_cat33 = subs_features_train[subs_features_train.SK_ID == user][col]\n",
    "            com_cat33 = com_cat33.map(lambda x: float(x.replace(',','0.')), na_action='ignore')\n",
    "            d['com_cat33_mean'] = com_cat33.mean()\n",
    "            d['com_cat33_sum'] = com_cat33.sum()\n",
    "            d['com_cat33_std'] = com_cat33.std()\n",
    "            d['com_cat33_median'] = com_cat33.median()\n",
    "            d['com_cat33_sum_log'] = np.log(com_cat33.sum())\n",
    "            \n",
    "        elif col == \"COM_CAT#34\":\n",
    "            com_cat34 = subs_features_train[subs_features_train.SK_ID == user][col]\n",
    "            #com_cat34= com_cat34.map(lambda x: float(x.replace(',','0.')), na_action='ignore')\n",
    "            if len(com_cat34.unique()) == 1:\n",
    "                d['com_cat34'] = com_cat34.unique()[0]\n",
    "            else:\n",
    "                d['com_cat34_mean'] = com_cat34.mean()\n",
    "                \n",
    "#             d['com_cat34_mean'] = com_cat34.mean()\n",
    "#             d['com_cat34_sum'] = com_cat34.sum()\n",
    "#             d['com_cat34_std'] = com_cat34.std()\n",
    "#             d['com_cat34_median'] = com_cat34.median()\n",
    "#             d['com_cat34_sum_log'] = np.log(com_cat34.sum())        \n",
    "    sf_train.append(d)"
   ]
  },
  {
   "cell_type": "code",
   "execution_count": 207,
   "metadata": {},
   "outputs": [
    {
     "name": "stderr",
     "output_type": "stream",
     "text": [
      "Widget Javascript not detected.  It may not be installed or enabled properly.\n"
     ]
    },
    {
     "data": {
      "application/vnd.jupyter.widget-view+json": {
       "model_id": "09511f32adfe4340b56d49fff4fa23d1"
      }
     },
     "metadata": {},
     "output_type": "display_data"
    },
    {
     "name": "stdout",
     "output_type": "stream",
     "text": [
      "\n",
      "CPU times: user 5min 58s, sys: 2.37 s, total: 6min\n",
      "Wall time: 5min 58s\n"
     ]
    }
   ],
   "source": [
    "%%time\n",
    "sf_test = []\n",
    "\n",
    "for user in tqdm_notebook(subs_features_test.SK_ID.unique()):\n",
    "    d = {}\n",
    "    d['user_id'] = user\n",
    "    \n",
    "    for col in subs_features_test.columns[1:]:\n",
    "        \n",
    "        #SNAP DATE\n",
    "        \n",
    "        if col == \"COM_CAT#1\":\n",
    "            com_cat1 = subs_features_test[subs_features_test.SK_ID == user][col]\n",
    "            #com_cat1 = com_cat1.map(lambda x: float(x.replace(',','0.')), na_action='ignore')\n",
    "            if len(com_cat1.unique()) == 1:\n",
    "                d['com_cat1'] = com_cat1.unique()[0]\n",
    "            else:\n",
    "                d['com_cat1_mean'] = com_cat1.mean()\n",
    "            \n",
    "\n",
    "        elif col == \"COM_CAT#2\":\n",
    "            com_cat2 = subs_features_test[subs_features_test.SK_ID == user][col]\n",
    "            #com_cat2 = com_cat2.map(lambda x: float(x.replace(',','0.')), na_action='ignore')\n",
    "            d['com_cat2_mean'] = com_cat2.mean()\n",
    "            d['com_cat2_sum'] = com_cat2.sum()\n",
    "            d['com_cat2_std'] = com_cat2.std()\n",
    "            d['com_cat2_median'] = com_cat2.median()\n",
    "            d['com_cat2_sum_log'] = np.log(com_cat2.sum())\n",
    "\n",
    "        elif col == \"COM_CAT#3\":\n",
    "            com_cat3 = subs_features_test[subs_features_test.SK_ID == user][col]\n",
    "            #com_cat3 = com_cat3.map(lambda x: float(x.replace(',','0.')), na_action='ignore')\n",
    "            \n",
    "            if len(com_cat3.unique()) == 1:\n",
    "                d['com_cat3'] = com_cat3.unique()[0]\n",
    "            else:\n",
    "                d['com_cat3_mean'] = com_cat3.mean()\n",
    "                \n",
    "#             d['com_cat3_mean'] = com_cat3.mean()\n",
    "#             d['com_cat3_sum'] = com_cat3.sum()\n",
    "#             d['com_cat3_std'] = com_cat3.std()\n",
    "#             d['com_cat3_median'] = com_cat3.median()\n",
    "#             d['com_cat3_sum_log'] = np.log(com_cat3.sum())\n",
    "\n",
    "        elif col == \"BASE_TYPE\":\n",
    "            #новая или старая абоненская база\n",
    "            base_type = subs_features_test[subs_features_test.SK_ID == user][col]\n",
    "            #base_type = base_type.map(lambda x: float(x.replace(',','0.')), na_action='ignore')\n",
    "            if len(base_type.unique()) == 1:\n",
    "                d['base_type'] = base_type.unique()[0]\n",
    "            else:\n",
    "                d['base_type_mean'] = base_type.mean()\n",
    "            \n",
    "            \n",
    "        elif col == \"ACT\":\n",
    "            #активность абонента\n",
    "            act = subs_features_test[subs_features_test.SK_ID == user][col]\n",
    "            #act = act.map(lambda x: float(x.replace(',','0.')), na_action='ignore')\n",
    "            if len(act.unique()) == 1:\n",
    "                d['act'] = act.unique()[0]\n",
    "            else:\n",
    "                d['act_mean'] = act.mean()\n",
    "                \n",
    "\n",
    "        elif col == \"ARPU_GROUP\":\n",
    "            #группа по ARPU абонента\n",
    "            act_group = subs_features_test[subs_features_test.SK_ID == user][col]\n",
    "            #act_group = act_group.map(lambda x: float(x.replace(',','0.')), na_action='ignore')\n",
    "            d['act_group_mean'] = act_group.mean()\n",
    "            d['act_group_sum'] = act_group.sum()\n",
    "            d['act_group_std'] = act_group.std()\n",
    "            d['act_group_median'] = act_group.median()\n",
    "            d['act_group_sum_log'] = np.log(act_group.sum())\n",
    "\n",
    "        elif col == \"COM_CAT#7\":\n",
    "            com_cat7 = subs_features_test[subs_features_test.SK_ID == user][col]\n",
    "            #com_cat7 = com_cat7.map(lambda x: float(x.replace(',','0.')), na_action='ignore')\n",
    "            d['com_cat7_mean'] = com_cat7.mean()\n",
    "            d['com_cat7_sum'] = com_cat7.sum()\n",
    "            d['com_cat7_std'] = com_cat7.std()\n",
    "            d['com_cat7_median'] = com_cat7.median()\n",
    "            d['com_cat7_sum_log'] = np.log(com_cat7.sum())\n",
    "\n",
    "        elif col == \"COM_CAT#8\":\n",
    "            com_cat8 = subs_features_test[subs_features_test.SK_ID == user][col]\n",
    "            #com_cat8 = com_cat8.map(lambda x: float(x.replace(',','0.')), na_action='ignore')\n",
    "            d['com_cat8_mean'] = com_cat8.mean()\n",
    "            d['com_cat8_sum'] = com_cat8.sum()\n",
    "            d['com_cat8_std'] = com_cat8.std()\n",
    "            d['com_cat8_median'] = com_cat8.median()\n",
    "            d['com_cat8_sum_log'] = np.log(com_cat8.sum())\n",
    "\n",
    "        elif col == \"DEVICE_TYPE_ID\":\n",
    "            #тип устройства\n",
    "            device_type_id = subs_features_test[subs_features_test.SK_ID == user][col]\n",
    "            #device_type_id = device_type_id.map(lambda x: float(x.replace(',','0.')), na_action='ignore')\n",
    "            if len(device_type_id.unique()) == 1:\n",
    "                d['device_type_id'] = device_type_id.unique()[0]\n",
    "            else:\n",
    "                d['device_type_id_mean'] = device_type_id.mean()\n",
    "                \n",
    "#             d['device_type_id_mean'] = device_type_id.mean()\n",
    "#             d['device_type_id_sum'] = device_type_id.sum()\n",
    "#             d['device_type_id_std'] = device_type_id.std()\n",
    "#             d['device_type_id_median'] = device_type_id.median()\n",
    "#             d['device_type_id_sum_loрg'] = np.log(device_type_id.sum())\n",
    "\n",
    "        elif col == \"INTERNET_TYPE_ID\":\n",
    "            #технология устр (2G/3G)\n",
    "            INTERNET_TYPE_ID = subs_features_test[subs_features_test.SK_ID == user][col]\n",
    "            #INTERNET_TYPE_ID = INTERNET_TYPE_ID.map(lambda x: float(x.replace(',','0.')), na_action='ignore')\n",
    "            \n",
    "            if len(INTERNET_TYPE_ID.unique()) == 1:\n",
    "                d['INTERNET_TYPE_ID'] = INTERNET_TYPE_ID.unique()[0]\n",
    "            else:\n",
    "                d['INTERNET_TYPE_ID_mean'] = INTERNET_TYPE_ID.mean()\n",
    "                \n",
    "#             d['INTERNET_TYPE_ID_mean'] = INTERNET_TYPE_ID.mean()\n",
    "#             d['INTERNET_TYPE_ID_sum'] = INTERNET_TYPE_ID.sum()\n",
    "#             d['INTERNET_TYPE_ID_std'] = INTERNET_TYPE_ID.std()\n",
    "#             d['INTERNET_TYPE_ID_median'] = INTERNET_TYPE_ID.median()\n",
    "#             d['INTERNET_TYPE_ID_sum_loрg'] = np.log(INTERNET_TYPE_ID.sum())\n",
    " \n",
    "        elif col == \"REVENUE\":\n",
    "            #выручка\n",
    "            REVENUE = subs_features_test[subs_features_test.SK_ID == user][col]\n",
    "            REVENUE = REVENUE.map(lambda x: float(x.replace(',','0.')), na_action='ignore')\n",
    "            d['REVENUE_mean'] = REVENUE.mean()\n",
    "            d['REVENUE_sum'] = REVENUE.sum()\n",
    "            d['REVENUE_std'] = REVENUE.std()\n",
    "            d['REVENUE_median'] = REVENUE.median()\n",
    "            d['REVENUE_sum_loрg'] = np.log(REVENUE.sum())\n",
    " \n",
    "        elif col == \"ITC\":\n",
    "            #расходы на интерконнект\n",
    "            ITC = subs_features_test[subs_features_test.SK_ID == user][col]\n",
    "            ITC = ITC.map(lambda x: float(x.replace(',','0.')), na_action='ignore')\n",
    "            d['ITC_mean'] = ITC.mean()\n",
    "            d['ITC_sum'] = ITC.sum()\n",
    "            d['ITC_std'] = ITC.std()\n",
    "            d['ITC_median'] = ITC.median()\n",
    "            d['ITC_sum_loрg'] = np.log(ITC.sum())\n",
    "     \n",
    "        elif col == \"VAS\":\n",
    "            #расходы на VAS\n",
    "            VAS = subs_features_test[subs_features_test.SK_ID == user][col]\n",
    "            VAS = VAS.map(lambda x: float(x.replace(',','0.')), na_action='ignore')\n",
    "            d['VAS_mean'] = VAS.mean()\n",
    "            d['VAS_sum'] = VAS.sum()\n",
    "            d['VAS_std'] = VAS.std()\n",
    "            d['VAS_median'] = VAS.median()\n",
    "            d['VAS_sum_loрg'] = np.log(VAS.sum())\n",
    "     \n",
    "        elif col == \"RENT_CHANNEL\":\n",
    "            #расходы на аренду каналов\n",
    "            RENT_CHANNEL = subs_features_test[subs_features_test.SK_ID == user][col]\n",
    "            RENT_CHANNEL = RENT_CHANNEL.map(lambda x: float(x.replace(',','0.')), na_action='ignore')\n",
    "            d['RENT_CHANNEL_mean'] = RENT_CHANNEL.mean()\n",
    "            d['RENT_CHANNEL_sum'] = RENT_CHANNEL.sum()\n",
    "            d['RENT_CHANNEL_std'] = RENT_CHANNEL.std()\n",
    "            d['RENT_CHANNEL_median'] = RENT_CHANNEL.median()\n",
    "            d['RENT_CHANNEL_sum_loрg'] = np.log(RENT_CHANNEL.sum())\n",
    "            \n",
    "     \n",
    "        elif col == \"ROAM\":\n",
    "            # раходы на роуминг \n",
    "            ROAM = subs_features_test[subs_features_test.SK_ID == user][col]\n",
    "            ROAM = ROAM.map(lambda x: float(x.replace(',','0.')), na_action='ignore')\n",
    "            d['ROAM_mean'] = ROAM.mean()\n",
    "            d['ROAM_sum'] = ROAM.sum()\n",
    "            d['ROAM_std'] = ROAM.std()\n",
    "            d['ROAM_median'] = ROAM.median()\n",
    "            d['ROAM_sum_loрg'] = np.log(ROAM.sum())\n",
    "     \n",
    "        elif col == \"COST\":\n",
    "            #себестоимость \n",
    "            COST = subs_features_test[subs_features_test.SK_ID == user][col]\n",
    "            COST = COST.map(lambda x: float(x.replace(',','0.')), na_action='ignore')\n",
    "            d['COST_mean'] = COST.mean()\n",
    "            d['COST_sum'] = COST.sum()\n",
    "            d['COST_std'] = COST.std()\n",
    "            d['COST_median'] = COST.median()\n",
    "            d['COST_sum_loрg'] = np.log(COST.sum())\n",
    "     \n",
    "        elif col == \"COM_CAT#17\":\n",
    "            com_cat17 = subs_features_test[subs_features_test.SK_ID == user][col]\n",
    "            com_cat17 = com_cat17.map(lambda x: float(x.replace(',','0.')), na_action='ignore')\n",
    "            d['com_cat17_mean'] = com_cat17.mean()\n",
    "            d['com_cat17_sum'] = com_cat17.sum()\n",
    "            d['com_cat17_std'] = com_cat17.std()\n",
    "            d['com_cat17_median'] = com_cat17.median()\n",
    "            d['com_cat17_sum_log'] = np.log(com_cat17.sum())\n",
    "\n",
    "        elif col == \"COM_CAT#18\":\n",
    "            com_cat18 = subs_features_test[subs_features_test.SK_ID == user][col]\n",
    "            com_cat18 = com_cat18.map(lambda x: float(x.replace(',','0.')), na_action='ignore')\n",
    "            d['com_cat18_mean'] = com_cat18.mean()\n",
    "            d['com_cat18_sum'] = com_cat18.sum()\n",
    "            d['com_cat18_std'] = com_cat18.std()\n",
    "            d['com_cat18_median'] = com_cat18.median()\n",
    "            d['com_cat18_sum_log'] = np.log(com_cat18.sum())\n",
    "\n",
    "        elif col == \"COM_CAT#19\":\n",
    "            com_cat19 = subs_features_test[subs_features_test.SK_ID == user][col]\n",
    "            com_cat19 = com_cat19.map(lambda x: float(x.replace(',','0.')), na_action='ignore')\n",
    "            d['com_cat19_mean'] = com_cat19.mean()\n",
    "            d['com_cat19_sum'] = com_cat19.sum()\n",
    "            d['com_cat19_std'] = com_cat19.std()\n",
    "            d['com_cat19_median'] = com_cat19.median()\n",
    "            d['com_cat19_sum_log'] = np.log(com_cat19.sum())\n",
    "\n",
    "        elif col == \"COM_CAT#20\":\n",
    "            com_cat20 = subs_features_test[subs_features_test.SK_ID == user][col]\n",
    "            com_cat20 = com_cat20.map(lambda x: float(x.replace(',','0.')), na_action='ignore')\n",
    "            d['com_cat20_mean'] = com_cat20.mean()\n",
    "            d['com_cat20_sum'] = com_cat20.sum()\n",
    "            d['com_cat20_std'] = com_cat20.std()\n",
    "            d['com_cat20_median'] = com_cat20.median()\n",
    "            d['com_cat20_sum_log'] = np.log(com_cat20.sum())\n",
    "\n",
    "        elif col == \"COM_CAT#21\":\n",
    "            com_cat21 = subs_features_test[subs_features_test.SK_ID == user][col]\n",
    "            com_cat21 = com_cat21.map(lambda x: float(x.replace(',','0.')), na_action='ignore')\n",
    "            d['com_cat21_mean'] = com_cat21.mean()\n",
    "            d['com_cat21_sum'] = com_cat21.sum()\n",
    "            d['com_cat21_std'] = com_cat21.std()\n",
    "            d['com_cat21_median'] = com_cat21.median()\n",
    "            d['com_cat21_sum_log'] = np.log(com_cat21.sum())\n",
    "\n",
    "        elif col == \"COM_CAT#22\":\n",
    "            com_cat22 = subs_features_test[subs_features_test.SK_ID == user][col]\n",
    "            com_cat22 = com_cat22.map(lambda x: float(x.replace(',','0.')), na_action='ignore')\n",
    "            d['com_cat22_mean'] = com_cat22.mean()\n",
    "            d['com_cat22_sum'] = com_cat22.sum()\n",
    "            d['com_cat22_std'] = com_cat22.std()\n",
    "            d['com_cat22_median'] = com_cat22.median()\n",
    "            d['com_cat22_sum_log'] = np.log(com_cat22.sum())\n",
    "\n",
    "        elif col == \"COM_CAT#23\":\n",
    "            com_cat23 = subs_features_test[subs_features_test.SK_ID == user][col]\n",
    "            com_cat23 = com_cat23.map(lambda x: float(x.replace(',','0.')), na_action='ignore')\n",
    "            d['com_cat23_mean'] = com_cat23.mean()\n",
    "            d['com_cat23_sum'] = com_cat23.sum()\n",
    "            d['com_cat23_std'] = com_cat23.std()\n",
    "            d['com_cat23_median'] = com_cat23.median()\n",
    "            d['com_cat23_sum_log'] = np.log(com_cat23.sum())\n",
    "\n",
    "        elif col == \"COM_CAT#24\":\n",
    "            com_cat24 = subs_features_test[subs_features_test.SK_ID == user][col]\n",
    "            #com_cat24 = com_cat24.map(lambda x: float(x.replace(',','0.')), na_action='ignore')\n",
    "            if len(com_cat24.unique()) == 1:\n",
    "                d['com_cat24'] = com_cat24.unique()[0]\n",
    "            else:\n",
    "                d['com_cat24_mean'] = com_cat24.mean()\n",
    "#             d['com_cat24_mean'] = com_cat24.mean()\n",
    "#             d['com_cat24_sum'] = com_cat24.sum()\n",
    "#             d['com_cat24_std'] = com_cat24.std()\n",
    "#             d['com_cat24_median'] = com_cat24.median()\n",
    "#             d['com_cat24_sum_log'] = np.log(com_cat24.sum())\n",
    "            \n",
    "\n",
    "        elif col == \"COM_CAT#25\":\n",
    "            com_cat25 = subs_features_test[subs_features_test.SK_ID == user][col]\n",
    "            #com_cat25 = com_cat25.map(lambda x: float(x.replace(',','0.')), na_action='ignore')\n",
    "            \n",
    "            if len(com_cat25.unique()) == 1:\n",
    "                d['com_cat25'] = com_cat25.unique()[0]\n",
    "            else:\n",
    "                d['com_cat25_mean'] = com_cat25.mean()\n",
    "                \n",
    "#             d['com_cat25_mean'] = com_cat25.mean()\n",
    "#             d['com_cat25_sum'] = com_cat25.sum()\n",
    "#             d['com_cat25_std'] = com_cat25.std()\n",
    "#             d['com_cat25_median'] = com_cat25.median()\n",
    "#             d['com_cat25_sum_log'] = np.log(com_cat25.sum())\n",
    "\n",
    "        elif col == \"COM_CAT#26\":\n",
    "            com_cat26 = subs_features_test[subs_features_test.SK_ID == user][col]\n",
    "            #com_cat26 = com_cat26.map(lambda x: float(x.replace(',','0.')), na_action='ignore')\n",
    "            if len(com_cat26.unique()) == 1:\n",
    "                d['com_cat26'] = com_cat26.unique()[0]\n",
    "            else:\n",
    "                d['com_cat26_mean'] = com_cat26.mean()\n",
    "                \n",
    "#             d['com_cat26_mean'] = com_cat26.mean()\n",
    "#             d['com_cat26_sum'] = com_cat26.sum()\n",
    "#             d['com_cat26_std'] = com_cat26.std()\n",
    "#             d['com_cat26_median'] = com_cat26.median()\n",
    "#             d['com_cat26_sum_log'] = np.log(com_cat26.sum())\n",
    "\n",
    "        elif col == \"COM_CAT#27\":\n",
    "            com_cat27 = subs_features_test[subs_features_test.SK_ID == user][col]\n",
    "            com_cat27 = com_cat27.map(lambda x: float(x.replace(',','0.')), na_action='ignore')\n",
    "            d['com_cat27_mean'] = com_cat27.mean()\n",
    "            d['com_cat27_sum'] = com_cat27.sum()\n",
    "            d['com_cat27_std'] = com_cat27.std()\n",
    "            d['com_cat27_median'] = com_cat27.median()\n",
    "            d['com_cat27_sum_log'] = np.log(com_cat27.sum())\n",
    "\n",
    "        elif col == \"COM_CAT#28\":\n",
    "            com_cat28 = subs_features_test[subs_features_test.SK_ID == user][col]\n",
    "            com_cat28 = com_cat28.map(lambda x: float(x.replace(',','0.')), na_action='ignore')\n",
    "            d['com_cat28_mean'] = com_cat28.mean()\n",
    "            d['com_cat28_sum'] = com_cat28.sum()\n",
    "            d['com_cat28_std'] = com_cat28.std()\n",
    "            d['com_cat28_median'] = com_cat28.median()\n",
    "            d['com_cat28_sum_log'] = np.log(com_cat28.sum())\n",
    "\n",
    "        elif col == \"COM_CAT#29\":\n",
    "            com_cat29 = subs_features_test[subs_features_test.SK_ID == user][col]\n",
    "            com_cat29 = com_cat29.map(lambda x: float(x.replace(',','0.')), na_action='ignore')\n",
    "            d['com_cat29_mean'] = com_cat29.mean()\n",
    "            d['com_cat29_sum'] = com_cat29.sum()\n",
    "            d['com_cat29_std'] = com_cat29.std()\n",
    "            d['com_cat29_median'] = com_cat29.median()\n",
    "            d['com_cat29_sum_log'] = np.log(com_cat29.sum())\n",
    "\n",
    "        elif col == \"COM_CAT#30\":\n",
    "            com_cat30 = subs_features_test[subs_features_test.SK_ID == user][col]\n",
    "            com_cat30 = com_cat30.map(lambda x: float(x.replace(',','0.')), na_action='ignore')\n",
    "            d['com_cat30_mean'] = com_cat30.mean()\n",
    "            d['com_cat30_sum'] = com_cat30.sum()\n",
    "            d['com_cat30_std'] = com_cat30.std()\n",
    "            d['com_cat30_median'] = com_cat30.median()\n",
    "            d['com_cat30_sum_log'] = np.log(com_cat30.sum())\n",
    "\n",
    "        elif col == \"COM_CAT#31\":\n",
    "            com_cat31 = subs_features_test[subs_features_test.SK_ID == user][col]\n",
    "            com_cat31 = com_cat31.map(lambda x: float(x.replace(',','0.')), na_action='ignore')\n",
    "            d['com_cat31_mean'] = com_cat31.mean()\n",
    "            d['com_cat31_sum'] = com_cat31.sum()\n",
    "            d['com_cat31_std'] = com_cat31.std()\n",
    "            d['com_cat31_median'] = com_cat31.median()\n",
    "            d['com_cat31_sum_log'] = np.log(com_cat31.sum())\n",
    "\n",
    "        elif col == \"COM_CAT#32\":\n",
    "            com_cat32 = subs_features_test[subs_features_test.SK_ID == user][col]\n",
    "            com_cat32 = com_cat32.map(lambda x: float(x.replace(',','0.')), na_action='ignore')\n",
    "            d['com_cat32_mean'] = com_cat32.mean()\n",
    "            d['com_cat32_sum'] = com_cat32.sum()\n",
    "            d['com_cat32_std'] = com_cat32.std()\n",
    "            d['com_cat32_median'] = com_cat32.median()\n",
    "            d['com_cat32_sum_log'] = np.log(com_cat32.sum())\n",
    "\n",
    "        elif col == \"COM_CAT#33\":\n",
    "            com_cat33 = subs_features_test[subs_features_test.SK_ID == user][col]\n",
    "            com_cat33 = com_cat33.map(lambda x: float(x.replace(',','0.')), na_action='ignore')\n",
    "            d['com_cat33_mean'] = com_cat33.mean()\n",
    "            d['com_cat33_sum'] = com_cat33.sum()\n",
    "            d['com_cat33_std'] = com_cat33.std()\n",
    "            d['com_cat33_median'] = com_cat33.median()\n",
    "            d['com_cat33_sum_log'] = np.log(com_cat33.sum())\n",
    "            \n",
    "        elif col == \"COM_CAT#34\":\n",
    "            com_cat34 = subs_features_test[subs_features_test.SK_ID == user][col]\n",
    "            #com_cat34= com_cat34.map(lambda x: float(x.replace(',','0.')), na_action='ignore')\n",
    "            if len(com_cat34.unique()) == 1:\n",
    "                d['com_cat34'] = com_cat34.unique()[0]\n",
    "            else:\n",
    "                d['com_cat34_mean'] = com_cat34.mean()\n",
    "                \n",
    "#             d['com_cat34_mean'] = com_cat34.mean()\n",
    "#             d['com_cat34_sum'] = com_cat34.sum()\n",
    "#             d['com_cat34_std'] = com_cat34.std()\n",
    "#             d['com_cat34_median'] = com_cat34.median()\n",
    "#             d['com_cat34_sum_log'] = np.log(com_cat34.sum())        \n",
    "    sf_test.append(d)"
   ]
  },
  {
   "cell_type": "code",
   "execution_count": 11,
   "metadata": {
    "collapsed": true
   },
   "outputs": [],
   "source": [
    "test.columns = ['user_id', 'CONTACT_DATE']"
   ]
  },
  {
   "cell_type": "code",
   "execution_count": 12,
   "metadata": {
    "collapsed": true
   },
   "outputs": [],
   "source": [
    "train.columns = ['user_id', 'CSI', 'CONTACT_DATE']"
   ]
  },
  {
   "cell_type": "code",
   "execution_count": 208,
   "metadata": {
    "collapsed": true
   },
   "outputs": [],
   "source": [
    "sf_test = pd.DataFrame(sf_test)\n",
    "sf_train = pd.DataFrame(sf_train)\n",
    "sbc_test = pd.DataFrame(sbc_test)\n",
    "sbc_train = pd.DataFrame(sbc_train)"
   ]
  },
  {
   "cell_type": "markdown",
   "metadata": {},
   "source": [
    "    TODO: checkout"
   ]
  },
  {
   "cell_type": "code",
   "execution_count": 19,
   "metadata": {
    "collapsed": true
   },
   "outputs": [],
   "source": [
    "sf_sbc_train = pd.merge(train, sbc_train, on=['user_id'],how='outer')"
   ]
  },
  {
   "cell_type": "code",
   "execution_count": 20,
   "metadata": {
    "collapsed": true
   },
   "outputs": [],
   "source": [
    "sf_sbc_train = pd.merge(sf_sbc_train, sf_train, on=['user_id'],how='outer')"
   ]
  },
  {
   "cell_type": "code",
   "execution_count": 21,
   "metadata": {
    "collapsed": true
   },
   "outputs": [],
   "source": [
    "sf_sbc_train.to_csv('data_ready_train/sf_sbc_train.csv',index=False)"
   ]
  },
  {
   "cell_type": "code",
   "execution_count": null,
   "metadata": {
    "collapsed": true
   },
   "outputs": [],
   "source": []
  },
  {
   "cell_type": "code",
   "execution_count": 22,
   "metadata": {
    "collapsed": true
   },
   "outputs": [],
   "source": [
    "sf_sbc_test = pd.merge(test,sbc_test, on=['user_id'],how='outer')"
   ]
  },
  {
   "cell_type": "code",
   "execution_count": 23,
   "metadata": {
    "collapsed": true
   },
   "outputs": [],
   "source": [
    "sf_sbc_test = pd.merge(sf_sbc_test, sf_test, on=['user_id'], how='outer')"
   ]
  },
  {
   "cell_type": "code",
   "execution_count": 24,
   "metadata": {
    "collapsed": true
   },
   "outputs": [],
   "source": [
    "sf_sbc_test.to_csv('data_ready_train/sf_sbc_test.csv', index=False)"
   ]
  },
  {
   "cell_type": "markdown",
   "metadata": {},
   "source": [
    "### subs_bs_data_session - sbds"
   ]
  },
  {
   "cell_type": "code",
   "execution_count": 107,
   "metadata": {
    "collapsed": true
   },
   "outputs": [],
   "source": [
    "import tqdm"
   ]
  },
  {
   "cell_type": "code",
   "execution_count": 58,
   "metadata": {
    "collapsed": true
   },
   "outputs": [],
   "source": [
    "subs_bs_data_session_train['START_TIME'] = subs_bs_data_session_train['START_TIME'].map(lambda x: x.split()[0].split('.')[1], na_action='ignore')\n",
    "subs_bs_data_session_test['START_TIME'] = subs_bs_data_session_test['START_TIME'].map(lambda x: x.split()[0].split('.')[1], na_action='ignore')"
   ]
  },
  {
   "cell_type": "code",
   "execution_count": 109,
   "metadata": {
    "collapsed": true
   },
   "outputs": [
    {
     "ename": "KeyboardInterrupt",
     "evalue": "",
     "output_type": "error",
     "traceback": [
      "\u001b[0;31m---------------------------------------------------------------------------\u001b[0m",
      "\u001b[0;31mKeyboardInterrupt\u001b[0m                         Traceback (most recent call last)",
      "\u001b[0;32m<ipython-input-109-b6d9d4240ecc>\u001b[0m in \u001b[0;36m<module>\u001b[0;34m()\u001b[0m\n\u001b[0;32m----> 1\u001b[0;31m \u001b[0mget_ipython\u001b[0m\u001b[0;34m(\u001b[0m\u001b[0;34m)\u001b[0m\u001b[0;34m.\u001b[0m\u001b[0mrun_cell_magic\u001b[0m\u001b[0;34m(\u001b[0m\u001b[0;34m'time'\u001b[0m\u001b[0;34m,\u001b[0m \u001b[0;34m''\u001b[0m\u001b[0;34m,\u001b[0m \u001b[0;34m\"sbds_train = []\\n\\nfor user in subs_bs_data_session_train.SK_ID.unique():\\n    d = {}\\n    d['user_id'] = user\\n    \\n    for month in subs_bs_data_session_train[subs_bs_data_session_train.SK_ID == user]['START_TIME'].unique():\\n        se = subs_bs_data_session_train[subs_bs_data_session_train.SK_ID == user][subs_bs_data_session_train.START_TIME.astype('str') == '{}'.format(month)]\\n        for col in subs_bs_data_session_train.columns[1:]:\\n\\n            if col == 'CELL_LAC_ID':    \\n                d['cell_id_' + month] = se['CELL_LAC_ID'].values\\n        \\n            elif col == 'DATA_VOL_MB':\\n                d['data_vol_mb_mean_'+ month] = se['DATA_VOL_MB'].mean()\\n                d['data_vol_mb_sum_'+ month] = se['DATA_VOL_MB'].sum()\\n                d['data_vol_mb_std_'+ month] = se['DATA_VOL_MB'].std()\\n                #d['data_vol_mb_log_sum_'+ month] = np.log(se.sum())\\n                d['data_vol_mb_median_'+ month] = se['DATA_VOL_MB'].median()\\n                d['data_vol_mb_min_'+ month] = se['DATA_VOL_MB'].min()\\n                d['data_vol_mb_max_'+ month] = se['DATA_VOL_MB'].max()\\n                \\n    sbds_train.append(d)\"\u001b[0m\u001b[0;34m)\u001b[0m\u001b[0;34m\u001b[0m\u001b[0m\n\u001b[0m",
      "\u001b[0;32m/home/ubuntu/anaconda3/lib/python3.6/site-packages/IPython/core/interactiveshell.py\u001b[0m in \u001b[0;36mrun_cell_magic\u001b[0;34m(self, magic_name, line, cell)\u001b[0m\n\u001b[1;32m   2113\u001b[0m             \u001b[0mmagic_arg_s\u001b[0m \u001b[0;34m=\u001b[0m \u001b[0mself\u001b[0m\u001b[0;34m.\u001b[0m\u001b[0mvar_expand\u001b[0m\u001b[0;34m(\u001b[0m\u001b[0mline\u001b[0m\u001b[0;34m,\u001b[0m \u001b[0mstack_depth\u001b[0m\u001b[0;34m)\u001b[0m\u001b[0;34m\u001b[0m\u001b[0m\n\u001b[1;32m   2114\u001b[0m             \u001b[0;32mwith\u001b[0m \u001b[0mself\u001b[0m\u001b[0;34m.\u001b[0m\u001b[0mbuiltin_trap\u001b[0m\u001b[0;34m:\u001b[0m\u001b[0;34m\u001b[0m\u001b[0m\n\u001b[0;32m-> 2115\u001b[0;31m                 \u001b[0mresult\u001b[0m \u001b[0;34m=\u001b[0m \u001b[0mfn\u001b[0m\u001b[0;34m(\u001b[0m\u001b[0mmagic_arg_s\u001b[0m\u001b[0;34m,\u001b[0m \u001b[0mcell\u001b[0m\u001b[0;34m)\u001b[0m\u001b[0;34m\u001b[0m\u001b[0m\n\u001b[0m\u001b[1;32m   2116\u001b[0m             \u001b[0;32mreturn\u001b[0m \u001b[0mresult\u001b[0m\u001b[0;34m\u001b[0m\u001b[0m\n\u001b[1;32m   2117\u001b[0m \u001b[0;34m\u001b[0m\u001b[0m\n",
      "\u001b[0;32m<decorator-gen-59>\u001b[0m in \u001b[0;36mtime\u001b[0;34m(self, line, cell, local_ns)\u001b[0m\n",
      "\u001b[0;32m/home/ubuntu/anaconda3/lib/python3.6/site-packages/IPython/core/magic.py\u001b[0m in \u001b[0;36m<lambda>\u001b[0;34m(f, *a, **k)\u001b[0m\n\u001b[1;32m    186\u001b[0m     \u001b[0;31m# but it's overkill for just that one bit of state.\u001b[0m\u001b[0;34m\u001b[0m\u001b[0;34m\u001b[0m\u001b[0m\n\u001b[1;32m    187\u001b[0m     \u001b[0;32mdef\u001b[0m \u001b[0mmagic_deco\u001b[0m\u001b[0;34m(\u001b[0m\u001b[0marg\u001b[0m\u001b[0;34m)\u001b[0m\u001b[0;34m:\u001b[0m\u001b[0;34m\u001b[0m\u001b[0m\n\u001b[0;32m--> 188\u001b[0;31m         \u001b[0mcall\u001b[0m \u001b[0;34m=\u001b[0m \u001b[0;32mlambda\u001b[0m \u001b[0mf\u001b[0m\u001b[0;34m,\u001b[0m \u001b[0;34m*\u001b[0m\u001b[0ma\u001b[0m\u001b[0;34m,\u001b[0m \u001b[0;34m**\u001b[0m\u001b[0mk\u001b[0m\u001b[0;34m:\u001b[0m \u001b[0mf\u001b[0m\u001b[0;34m(\u001b[0m\u001b[0;34m*\u001b[0m\u001b[0ma\u001b[0m\u001b[0;34m,\u001b[0m \u001b[0;34m**\u001b[0m\u001b[0mk\u001b[0m\u001b[0;34m)\u001b[0m\u001b[0;34m\u001b[0m\u001b[0m\n\u001b[0m\u001b[1;32m    189\u001b[0m \u001b[0;34m\u001b[0m\u001b[0m\n\u001b[1;32m    190\u001b[0m         \u001b[0;32mif\u001b[0m \u001b[0mcallable\u001b[0m\u001b[0;34m(\u001b[0m\u001b[0marg\u001b[0m\u001b[0;34m)\u001b[0m\u001b[0;34m:\u001b[0m\u001b[0;34m\u001b[0m\u001b[0m\n",
      "\u001b[0;32m/home/ubuntu/anaconda3/lib/python3.6/site-packages/IPython/core/magics/execution.py\u001b[0m in \u001b[0;36mtime\u001b[0;34m(self, line, cell, local_ns)\u001b[0m\n\u001b[1;32m   1183\u001b[0m         \u001b[0;32melse\u001b[0m\u001b[0;34m:\u001b[0m\u001b[0;34m\u001b[0m\u001b[0m\n\u001b[1;32m   1184\u001b[0m             \u001b[0mst\u001b[0m \u001b[0;34m=\u001b[0m \u001b[0mclock2\u001b[0m\u001b[0;34m(\u001b[0m\u001b[0;34m)\u001b[0m\u001b[0;34m\u001b[0m\u001b[0m\n\u001b[0;32m-> 1185\u001b[0;31m             \u001b[0mexec\u001b[0m\u001b[0;34m(\u001b[0m\u001b[0mcode\u001b[0m\u001b[0;34m,\u001b[0m \u001b[0mglob\u001b[0m\u001b[0;34m,\u001b[0m \u001b[0mlocal_ns\u001b[0m\u001b[0;34m)\u001b[0m\u001b[0;34m\u001b[0m\u001b[0m\n\u001b[0m\u001b[1;32m   1186\u001b[0m             \u001b[0mend\u001b[0m \u001b[0;34m=\u001b[0m \u001b[0mclock2\u001b[0m\u001b[0;34m(\u001b[0m\u001b[0;34m)\u001b[0m\u001b[0;34m\u001b[0m\u001b[0m\n\u001b[1;32m   1187\u001b[0m             \u001b[0mout\u001b[0m \u001b[0;34m=\u001b[0m \u001b[0;32mNone\u001b[0m\u001b[0;34m\u001b[0m\u001b[0m\n",
      "\u001b[0;32m<timed exec>\u001b[0m in \u001b[0;36m<module>\u001b[0;34m()\u001b[0m\n",
      "\u001b[0;32m/home/ubuntu/anaconda3/lib/python3.6/site-packages/pandas/util/_decorators.py\u001b[0m in \u001b[0;36mwrapper\u001b[0;34m(*args, **kwargs)\u001b[0m\n\u001b[1;32m    176\u001b[0m                 \u001b[0;32melse\u001b[0m\u001b[0;34m:\u001b[0m\u001b[0;34m\u001b[0m\u001b[0m\n\u001b[1;32m    177\u001b[0m                     \u001b[0mkwargs\u001b[0m\u001b[0;34m[\u001b[0m\u001b[0mnew_arg_name\u001b[0m\u001b[0;34m]\u001b[0m \u001b[0;34m=\u001b[0m \u001b[0mnew_arg_value\u001b[0m\u001b[0;34m\u001b[0m\u001b[0m\n\u001b[0;32m--> 178\u001b[0;31m             \u001b[0;32mreturn\u001b[0m \u001b[0mfunc\u001b[0m\u001b[0;34m(\u001b[0m\u001b[0;34m*\u001b[0m\u001b[0margs\u001b[0m\u001b[0;34m,\u001b[0m \u001b[0;34m**\u001b[0m\u001b[0mkwargs\u001b[0m\u001b[0;34m)\u001b[0m\u001b[0;34m\u001b[0m\u001b[0m\n\u001b[0m\u001b[1;32m    179\u001b[0m         \u001b[0;32mreturn\u001b[0m \u001b[0mwrapper\u001b[0m\u001b[0;34m\u001b[0m\u001b[0m\n\u001b[1;32m    180\u001b[0m     \u001b[0;32mreturn\u001b[0m \u001b[0m_deprecate_kwarg\u001b[0m\u001b[0;34m\u001b[0m\u001b[0m\n",
      "\u001b[0;32m/home/ubuntu/anaconda3/lib/python3.6/site-packages/pandas/core/generic.py\u001b[0m in \u001b[0;36mastype\u001b[0;34m(self, dtype, copy, errors, **kwargs)\u001b[0m\n\u001b[1;32m   4999\u001b[0m             \u001b[0;31m# else, only a single dtype is given\u001b[0m\u001b[0;34m\u001b[0m\u001b[0;34m\u001b[0m\u001b[0m\n\u001b[1;32m   5000\u001b[0m             new_data = self._data.astype(dtype=dtype, copy=copy, errors=errors,\n\u001b[0;32m-> 5001\u001b[0;31m                                          **kwargs)\n\u001b[0m\u001b[1;32m   5002\u001b[0m             \u001b[0;32mreturn\u001b[0m \u001b[0mself\u001b[0m\u001b[0;34m.\u001b[0m\u001b[0m_constructor\u001b[0m\u001b[0;34m(\u001b[0m\u001b[0mnew_data\u001b[0m\u001b[0;34m)\u001b[0m\u001b[0;34m.\u001b[0m\u001b[0m__finalize__\u001b[0m\u001b[0;34m(\u001b[0m\u001b[0mself\u001b[0m\u001b[0;34m)\u001b[0m\u001b[0;34m\u001b[0m\u001b[0m\n\u001b[1;32m   5003\u001b[0m \u001b[0;34m\u001b[0m\u001b[0m\n",
      "\u001b[0;32m/home/ubuntu/anaconda3/lib/python3.6/site-packages/pandas/core/internals.py\u001b[0m in \u001b[0;36mastype\u001b[0;34m(self, dtype, **kwargs)\u001b[0m\n\u001b[1;32m   3712\u001b[0m \u001b[0;34m\u001b[0m\u001b[0m\n\u001b[1;32m   3713\u001b[0m     \u001b[0;32mdef\u001b[0m \u001b[0mastype\u001b[0m\u001b[0;34m(\u001b[0m\u001b[0mself\u001b[0m\u001b[0;34m,\u001b[0m \u001b[0mdtype\u001b[0m\u001b[0;34m,\u001b[0m \u001b[0;34m**\u001b[0m\u001b[0mkwargs\u001b[0m\u001b[0;34m)\u001b[0m\u001b[0;34m:\u001b[0m\u001b[0;34m\u001b[0m\u001b[0m\n\u001b[0;32m-> 3714\u001b[0;31m         \u001b[0;32mreturn\u001b[0m \u001b[0mself\u001b[0m\u001b[0;34m.\u001b[0m\u001b[0mapply\u001b[0m\u001b[0;34m(\u001b[0m\u001b[0;34m'astype'\u001b[0m\u001b[0;34m,\u001b[0m \u001b[0mdtype\u001b[0m\u001b[0;34m=\u001b[0m\u001b[0mdtype\u001b[0m\u001b[0;34m,\u001b[0m \u001b[0;34m**\u001b[0m\u001b[0mkwargs\u001b[0m\u001b[0;34m)\u001b[0m\u001b[0;34m\u001b[0m\u001b[0m\n\u001b[0m\u001b[1;32m   3715\u001b[0m \u001b[0;34m\u001b[0m\u001b[0m\n\u001b[1;32m   3716\u001b[0m     \u001b[0;32mdef\u001b[0m \u001b[0mconvert\u001b[0m\u001b[0;34m(\u001b[0m\u001b[0mself\u001b[0m\u001b[0;34m,\u001b[0m \u001b[0;34m**\u001b[0m\u001b[0mkwargs\u001b[0m\u001b[0;34m)\u001b[0m\u001b[0;34m:\u001b[0m\u001b[0;34m\u001b[0m\u001b[0m\n",
      "\u001b[0;32m/home/ubuntu/anaconda3/lib/python3.6/site-packages/pandas/core/internals.py\u001b[0m in \u001b[0;36mapply\u001b[0;34m(self, f, axes, filter, do_integrity_check, consolidate, **kwargs)\u001b[0m\n\u001b[1;32m   3579\u001b[0m \u001b[0;34m\u001b[0m\u001b[0m\n\u001b[1;32m   3580\u001b[0m             \u001b[0mkwargs\u001b[0m\u001b[0;34m[\u001b[0m\u001b[0;34m'mgr'\u001b[0m\u001b[0;34m]\u001b[0m \u001b[0;34m=\u001b[0m \u001b[0mself\u001b[0m\u001b[0;34m\u001b[0m\u001b[0m\n\u001b[0;32m-> 3581\u001b[0;31m             \u001b[0mapplied\u001b[0m \u001b[0;34m=\u001b[0m \u001b[0mgetattr\u001b[0m\u001b[0;34m(\u001b[0m\u001b[0mb\u001b[0m\u001b[0;34m,\u001b[0m \u001b[0mf\u001b[0m\u001b[0;34m)\u001b[0m\u001b[0;34m(\u001b[0m\u001b[0;34m**\u001b[0m\u001b[0mkwargs\u001b[0m\u001b[0;34m)\u001b[0m\u001b[0;34m\u001b[0m\u001b[0m\n\u001b[0m\u001b[1;32m   3582\u001b[0m             \u001b[0mresult_blocks\u001b[0m \u001b[0;34m=\u001b[0m \u001b[0m_extend_blocks\u001b[0m\u001b[0;34m(\u001b[0m\u001b[0mapplied\u001b[0m\u001b[0;34m,\u001b[0m \u001b[0mresult_blocks\u001b[0m\u001b[0;34m)\u001b[0m\u001b[0;34m\u001b[0m\u001b[0m\n\u001b[1;32m   3583\u001b[0m \u001b[0;34m\u001b[0m\u001b[0m\n",
      "\u001b[0;32m/home/ubuntu/anaconda3/lib/python3.6/site-packages/pandas/core/internals.py\u001b[0m in \u001b[0;36mastype\u001b[0;34m(self, dtype, copy, errors, values, **kwargs)\u001b[0m\n\u001b[1;32m    573\u001b[0m     \u001b[0;32mdef\u001b[0m \u001b[0mastype\u001b[0m\u001b[0;34m(\u001b[0m\u001b[0mself\u001b[0m\u001b[0;34m,\u001b[0m \u001b[0mdtype\u001b[0m\u001b[0;34m,\u001b[0m \u001b[0mcopy\u001b[0m\u001b[0;34m=\u001b[0m\u001b[0;32mFalse\u001b[0m\u001b[0;34m,\u001b[0m \u001b[0merrors\u001b[0m\u001b[0;34m=\u001b[0m\u001b[0;34m'raise'\u001b[0m\u001b[0;34m,\u001b[0m \u001b[0mvalues\u001b[0m\u001b[0;34m=\u001b[0m\u001b[0;32mNone\u001b[0m\u001b[0;34m,\u001b[0m \u001b[0;34m**\u001b[0m\u001b[0mkwargs\u001b[0m\u001b[0;34m)\u001b[0m\u001b[0;34m:\u001b[0m\u001b[0;34m\u001b[0m\u001b[0m\n\u001b[1;32m    574\u001b[0m         return self._astype(dtype, copy=copy, errors=errors, values=values,\n\u001b[0;32m--> 575\u001b[0;31m                             **kwargs)\n\u001b[0m\u001b[1;32m    576\u001b[0m \u001b[0;34m\u001b[0m\u001b[0m\n\u001b[1;32m    577\u001b[0m     def _astype(self, dtype, copy=False, errors='raise', values=None,\n",
      "\u001b[0;32m/home/ubuntu/anaconda3/lib/python3.6/site-packages/pandas/core/internals.py\u001b[0m in \u001b[0;36m_astype\u001b[0;34m(self, dtype, copy, errors, values, klass, mgr, **kwargs)\u001b[0m\n\u001b[1;32m    662\u001b[0m \u001b[0;34m\u001b[0m\u001b[0m\n\u001b[1;32m    663\u001b[0m                 \u001b[0;31m# _astype_nansafe works fine with 1-d only\u001b[0m\u001b[0;34m\u001b[0m\u001b[0;34m\u001b[0m\u001b[0m\n\u001b[0;32m--> 664\u001b[0;31m                 \u001b[0mvalues\u001b[0m \u001b[0;34m=\u001b[0m \u001b[0mastype_nansafe\u001b[0m\u001b[0;34m(\u001b[0m\u001b[0mvalues\u001b[0m\u001b[0;34m.\u001b[0m\u001b[0mravel\u001b[0m\u001b[0;34m(\u001b[0m\u001b[0;34m)\u001b[0m\u001b[0;34m,\u001b[0m \u001b[0mdtype\u001b[0m\u001b[0;34m,\u001b[0m \u001b[0mcopy\u001b[0m\u001b[0;34m=\u001b[0m\u001b[0;32mTrue\u001b[0m\u001b[0;34m)\u001b[0m\u001b[0;34m\u001b[0m\u001b[0m\n\u001b[0m\u001b[1;32m    665\u001b[0m                 \u001b[0mvalues\u001b[0m \u001b[0;34m=\u001b[0m \u001b[0mvalues\u001b[0m\u001b[0;34m.\u001b[0m\u001b[0mreshape\u001b[0m\u001b[0;34m(\u001b[0m\u001b[0mself\u001b[0m\u001b[0;34m.\u001b[0m\u001b[0mshape\u001b[0m\u001b[0;34m)\u001b[0m\u001b[0;34m\u001b[0m\u001b[0m\n\u001b[1;32m    666\u001b[0m \u001b[0;34m\u001b[0m\u001b[0m\n",
      "\u001b[0;32m/home/ubuntu/anaconda3/lib/python3.6/site-packages/pandas/core/dtypes/cast.py\u001b[0m in \u001b[0;36mastype_nansafe\u001b[0;34m(arr, dtype, copy)\u001b[0m\n\u001b[1;32m    653\u001b[0m     \u001b[0;32mif\u001b[0m \u001b[0missubclass\u001b[0m\u001b[0;34m(\u001b[0m\u001b[0mdtype\u001b[0m\u001b[0;34m.\u001b[0m\u001b[0mtype\u001b[0m\u001b[0;34m,\u001b[0m \u001b[0mtext_type\u001b[0m\u001b[0;34m)\u001b[0m\u001b[0;34m:\u001b[0m\u001b[0;34m\u001b[0m\u001b[0m\n\u001b[1;32m    654\u001b[0m         \u001b[0;31m# in Py3 that's str, in Py2 that's unicode\u001b[0m\u001b[0;34m\u001b[0m\u001b[0;34m\u001b[0m\u001b[0m\n\u001b[0;32m--> 655\u001b[0;31m         \u001b[0;32mreturn\u001b[0m \u001b[0mlib\u001b[0m\u001b[0;34m.\u001b[0m\u001b[0mastype_unicode\u001b[0m\u001b[0;34m(\u001b[0m\u001b[0marr\u001b[0m\u001b[0;34m.\u001b[0m\u001b[0mravel\u001b[0m\u001b[0;34m(\u001b[0m\u001b[0;34m)\u001b[0m\u001b[0;34m)\u001b[0m\u001b[0;34m.\u001b[0m\u001b[0mreshape\u001b[0m\u001b[0;34m(\u001b[0m\u001b[0marr\u001b[0m\u001b[0;34m.\u001b[0m\u001b[0mshape\u001b[0m\u001b[0;34m)\u001b[0m\u001b[0;34m\u001b[0m\u001b[0m\n\u001b[0m\u001b[1;32m    656\u001b[0m \u001b[0;34m\u001b[0m\u001b[0m\n\u001b[1;32m    657\u001b[0m     \u001b[0;32melif\u001b[0m \u001b[0missubclass\u001b[0m\u001b[0;34m(\u001b[0m\u001b[0mdtype\u001b[0m\u001b[0;34m.\u001b[0m\u001b[0mtype\u001b[0m\u001b[0;34m,\u001b[0m \u001b[0mstring_types\u001b[0m\u001b[0;34m)\u001b[0m\u001b[0;34m:\u001b[0m\u001b[0;34m\u001b[0m\u001b[0m\n",
      "\u001b[0;31mKeyboardInterrupt\u001b[0m: "
     ]
    }
   ],
   "source": [
    "%%time\n",
    "sbds_train = []\n",
    "\n",
    "for user in subs_bs_data_session_train.SK_ID.unique():\n",
    "    d = {}\n",
    "    d['user_id'] = user\n",
    "    \n",
    "    for month in subs_bs_data_session_train[subs_bs_data_session_train.SK_ID == user]['START_TIME'].unique():\n",
    "        se = subs_bs_data_session_train[subs_bs_data_session_train.SK_ID == user][subs_bs_data_session_train.START_TIME.astype('str') == '{}'.format(month)]\n",
    "        for col in subs_bs_data_session_train.columns[1:]:\n",
    "\n",
    "            if col == 'CELL_LAC_ID':    \n",
    "                d['cell_id_' + month] = se['CELL_LAC_ID'].values\n",
    "        \n",
    "            elif col == 'DATA_VOL_MB':\n",
    "                d['data_vol_mb_mean_'+ month] = se['DATA_VOL_MB'].mean()\n",
    "                d['data_vol_mb_sum_'+ month] = se['DATA_VOL_MB'].sum()\n",
    "                d['data_vol_mb_std_'+ month] = se['DATA_VOL_MB'].std()\n",
    "                #d['data_vol_mb_log_sum_'+ month] = np.log(se.sum())\n",
    "                d['data_vol_mb_median_'+ month] = se['DATA_VOL_MB'].median()\n",
    "                d['data_vol_mb_min_'+ month] = se['DATA_VOL_MB'].min()\n",
    "                d['data_vol_mb_max_'+ month] = se['DATA_VOL_MB'].max()\n",
    "                \n",
    "    sbds_train.append(d)"
   ]
  },
  {
   "cell_type": "code",
   "execution_count": 110,
   "metadata": {},
   "outputs": [
    {
     "data": {
      "text/plain": [
       "[]"
      ]
     },
     "execution_count": 110,
     "metadata": {},
     "output_type": "execute_result"
    }
   ],
   "source": [
    "sbds_train"
   ]
  },
  {
   "cell_type": "code",
   "execution_count": 239,
   "metadata": {},
   "outputs": [
    {
     "name": "stderr",
     "output_type": "stream",
     "text": [
      "Widget Javascript not detected.  It may not be installed or enabled properly.\n"
     ]
    },
    {
     "data": {
      "application/vnd.jupyter.widget-view+json": {
       "model_id": "8df61d7d51c441d6839654e2d2655c48"
      }
     },
     "metadata": {},
     "output_type": "display_data"
    },
    {
     "name": "stdout",
     "output_type": "stream",
     "text": [
      "\n",
      "CPU times: user 2min 1s, sys: 411 ms, total: 2min 1s\n",
      "Wall time: 2min 1s\n"
     ]
    }
   ],
   "source": [
    "# %%time\n",
    "# sbds_train = []\n",
    "\n",
    "# for user in tqdm_notebook(subs_bs_data_session_train.SK_ID.unique()):\n",
    "#     d = {}\n",
    "#     d['user_id'] = user\n",
    "#     for col in subs_bs_data_session_train.columns[1:]:\n",
    "        \n",
    "#         if col == 'CELL_LAC_ID':\n",
    "#             cell_list = subs_bs_data_session_train[subs_bs_data_session_train.SK_ID == user][col].values\n",
    "#             time_list = subs_bs_data_session_train[subs_bs_data_session_train.SK_ID == user]['START_TIME'].values\n",
    "#             d['cell_for_time'] = cell_list\n",
    "#             d['time_for_cell'] = time_list\n",
    "            \n",
    "#         elif col == 'DATA_VOL_MB':\n",
    "#             #кол-во потребления данных за одну сессию\n",
    "#             data_vol_mb = subs_bs_data_session_train[subs_bs_data_session_train.SK_ID == user][col]\n",
    "#             data_vol_mb = data_vol_mb.map(lambda x: float(x.replace(',','0.')), na_action='ignore')\n",
    "#             d['data_vol_mb_mean'] = data_vol_mb.mean()\n",
    "#             d['data_vol_mb_sum'] =  data_vol_mb.sum()\n",
    "#             d['data_vol_mb_std'] =  data_vol_mb.std()\n",
    "#             d['data_vol_mb_sum_log'] = np.log(data_vol_mb.sum())\n",
    "#             d['data_vol_mb_med'] =  data_vol_mb.median()\n",
    "#             d['data_vol_mb_min'] =  data_vol_mb.min()\n",
    "#             d['data_vol_mb_max'] =  data_vol_mb.max()\n",
    "#     sbds_train.append(d)"
   ]
  },
  {
   "cell_type": "code",
   "execution_count": 240,
   "metadata": {},
   "outputs": [
    {
     "name": "stderr",
     "output_type": "stream",
     "text": [
      "Widget Javascript not detected.  It may not be installed or enabled properly.\n"
     ]
    },
    {
     "data": {
      "application/vnd.jupyter.widget-view+json": {
       "model_id": "d5729fe089b548e9bd255b093d16e2d1"
      }
     },
     "metadata": {},
     "output_type": "display_data"
    },
    {
     "name": "stdout",
     "output_type": "stream",
     "text": [
      "\n",
      "CPU times: user 2min 47s, sys: 665 ms, total: 2min 47s\n",
      "Wall time: 2min 47s\n"
     ]
    }
   ],
   "source": [
    "%%time\n",
    "sbds_test = []\n",
    "\n",
    "for user in tqdm_notebook(subs_bs_data_session_test.SK_ID.unique()):\n",
    "    d = {}\n",
    "    d['user_id'] = user\n",
    "    for col in subs_bs_data_session_test.columns[1:]:\n",
    "        \n",
    "        if col == 'CELL_LAC_ID':\n",
    "            cell_list = subs_bs_data_session_test[subs_bs_data_session_test.SK_ID == user][col].values\n",
    "            time_list = subs_bs_data_session_test[subs_bs_data_session_test.SK_ID == user]['START_TIME'].values\n",
    "            d['cell_for_time'] = cell_list\n",
    "            d['time_for_cell'] = time_list\n",
    "            \n",
    "        elif col == 'DATA_VOL_MB':\n",
    "            data_vol_mb = subs_bs_data_session_test[subs_bs_data_session_test.SK_ID == user][col]\n",
    "            data_vol_mb = data_vol_mb.map(lambda x: float(x.replace(',','0.')), na_action='ignore')\n",
    "            d['data_vol_mb_mean'] = data_vol_mb.mean()\n",
    "            d['data_vol_mb_sum'] =  data_vol_mb.sum()\n",
    "            d['data_vol_mb_std'] =  data_vol_mb.std()\n",
    "            d['data_vol_mb_sum_log'] = np.log(data_vol_mb.sum())\n",
    "            d['data_vol_mb_med'] =  data_vol_mb.median()\n",
    "            d['data_vol_mb_min'] =  data_vol_mb.min()\n",
    "            d['data_vol_mb_max'] =  data_vol_mb.max()\n",
    "    sbds_test.append(d)"
   ]
  },
  {
   "cell_type": "code",
   "execution_count": 241,
   "metadata": {
    "collapsed": true
   },
   "outputs": [],
   "source": [
    "sbds_train = pd.DataFrame(sbds_train)\n",
    "sbds_test = pd.DataFrame(sbds_test)"
   ]
  },
  {
   "cell_type": "markdown",
   "metadata": {},
   "source": [
    "### subs_bs_voice_session - sbvs"
   ]
  },
  {
   "cell_type": "code",
   "execution_count": 242,
   "metadata": {},
   "outputs": [
    {
     "name": "stderr",
     "output_type": "stream",
     "text": [
      "Widget Javascript not detected.  It may not be installed or enabled properly.\n"
     ]
    },
    {
     "data": {
      "application/vnd.jupyter.widget-view+json": {
       "model_id": "2fd8469f3cf5471b8ff4ee48c8dd201b"
      }
     },
     "metadata": {},
     "output_type": "display_data"
    },
    {
     "name": "stdout",
     "output_type": "stream",
     "text": [
      "\n",
      "CPU times: user 1min 34s, sys: 436 ms, total: 1min 34s\n",
      "Wall time: 1min 34s\n"
     ]
    }
   ],
   "source": [
    "%%time\n",
    "sbvs_train = []\n",
    "\n",
    "for user in tqdm_notebook(subs_bs_voice_session_train.SK_ID.unique()):\n",
    "    d = {}\n",
    "    d['user_id'] = user\n",
    "    for col in subs_bs_voice_session_train.columns[1:]:\n",
    "        \n",
    "        if col == 'CELL_LAC_ID':\n",
    "            cell_list = subs_bs_voice_session_train[subs_bs_voice_session_train.SK_ID == user][col].values\n",
    "            time_list = subs_bs_voice_session_train[subs_bs_voice_session_train.SK_ID == user]['START_TIME'].values\n",
    "            d['v_cell_for_time'] = cell_list\n",
    "            d['v_time_for_cell'] = time_list\n",
    "            \n",
    "        elif col == 'VOICE_DUR_MIN':\n",
    "            data_vol_mb = subs_bs_voice_session_train[subs_bs_voice_session_train.SK_ID == user][col]\n",
    "            data_vol_mb = data_vol_mb.map(lambda x: float(x.replace(',','0.')), na_action='ignore')\n",
    "            d['VOICE_DUR_MIN_mean'] = data_vol_mb.mean()\n",
    "            d['VOICE_DUR_MIN_sum'] =  data_vol_mb.sum()\n",
    "            d['VOICE_DUR_MIN_std'] =  data_vol_mb.std()\n",
    "            d['VOICE_DUR_MIN_sum_log'] = np.log(data_vol_mb.sum())\n",
    "            d['VOICE_DUR_MIN_med'] =  data_vol_mb.median()\n",
    "            d['VOICE_DUR_MIN_min'] =  data_vol_mb.min()\n",
    "            d['VOICE_DUR_MIN_max'] =  data_vol_mb.max()\n",
    "    sbvs_train.append(d)"
   ]
  },
  {
   "cell_type": "code",
   "execution_count": 243,
   "metadata": {},
   "outputs": [
    {
     "name": "stderr",
     "output_type": "stream",
     "text": [
      "Widget Javascript not detected.  It may not be installed or enabled properly.\n"
     ]
    },
    {
     "data": {
      "application/vnd.jupyter.widget-view+json": {
       "model_id": "6a446192ffb84e9eaac0232c5e29d7e6"
      }
     },
     "metadata": {},
     "output_type": "display_data"
    },
    {
     "name": "stdout",
     "output_type": "stream",
     "text": [
      "\n",
      "CPU times: user 2min 2s, sys: 680 ms, total: 2min 2s\n",
      "Wall time: 2min 2s\n"
     ]
    }
   ],
   "source": [
    "%%time\n",
    "sbvs_test = []\n",
    "\n",
    "for user in tqdm_notebook(subs_bs_voice_session_test.SK_ID.unique()):\n",
    "    d = {}\n",
    "    d['user_id'] = user\n",
    "    for col in subs_bs_voice_session_test.columns[1:]:\n",
    "        \n",
    "        if col == 'CELL_LAC_ID':\n",
    "            cell_list = subs_bs_voice_session_test[subs_bs_voice_session_test.SK_ID == user][col].values\n",
    "            time_list = subs_bs_voice_session_test[subs_bs_voice_session_test.SK_ID == user]['START_TIME'].values\n",
    "            d['v_cell_for_time'] = cell_list\n",
    "            d['v_time_for_cell'] = time_list\n",
    "            \n",
    "        elif col == 'VOICE_DUR_MIN':\n",
    "            data_vol_mb = subs_bs_voice_session_test[subs_bs_voice_session_test.SK_ID == user][col]\n",
    "            data_vol_mb = data_vol_mb.map(lambda x: float(x.replace(',','0.')), na_action='ignore')\n",
    "            d['VOICE_DUR_MIN_mean'] = data_vol_mb.mean()\n",
    "            d['VOICE_DUR_MIN_sum'] =  data_vol_mb.sum()\n",
    "            d['VOICE_DUR_MIN_std'] =  data_vol_mb.std()\n",
    "            d['VOICE_DUR_MIN_sum_log'] = np.log(data_vol_mb.sum())\n",
    "            d['VOICE_DUR_MIN_med'] =  data_vol_mb.median()\n",
    "            d['VOICE_DUR_MIN_min'] =  data_vol_mb.min()\n",
    "            d['VOICE_DUR_MIN_max'] =  data_vol_mb.max()\n",
    "    sbvs_test.append(d)"
   ]
  },
  {
   "cell_type": "code",
   "execution_count": 244,
   "metadata": {
    "collapsed": true
   },
   "outputs": [],
   "source": [
    "sbvs_train = pd.DataFrame(sbvs_train)\n",
    "sbvs_test = pd.DataFrame(sbvs_test)"
   ]
  },
  {
   "cell_type": "code",
   "execution_count": 245,
   "metadata": {
    "collapsed": true
   },
   "outputs": [],
   "source": [
    "sf_test.to_csv('data_ready_train/sf_test.csv', index=False)\n",
    "sf_train.to_csv('data_ready_train/sf_train.csv', index=False)\n",
    "\n",
    "sbc_test.to_csv('data_ready_train/sbc_test.csv', index=False)\n",
    "sbc_train.to_csv('data_ready_train/sbc_train.csv', index=False)\n",
    "\n",
    "sbds_train.to_csv('data_ready_train/sbds_train.csv', index=False)\n",
    "sbds_test.to_csv('data_ready_train/sbds_test.csv', index=False)\n",
    "\n",
    "sbvs_train.to_csv('data_ready_train/sbvs_train.csv', index=False)\n",
    "sbvs_test.to_csv('data_ready_train/sbvs_test.csv', index=False)"
   ]
  },
  {
   "cell_type": "markdown",
   "metadata": {},
   "source": [
    "### bs_avg_kpi - bak | bs_chnn_kpi - bck"
   ]
  },
  {
   "cell_type": "code",
   "execution_count": 255,
   "metadata": {},
   "outputs": [
    {
     "data": {
      "text/plain": [
       "61951"
      ]
     },
     "execution_count": 255,
     "metadata": {},
     "output_type": "execute_result"
    }
   ],
   "source": [
    "sbds_train[sbds_train.user_id == 3853].cell_for_time.values[0][0]"
   ]
  },
  {
   "cell_type": "code",
   "execution_count": 256,
   "metadata": {},
   "outputs": [
    {
     "data": {
      "text/plain": [
       "'04.04 05:00:00'"
      ]
     },
     "execution_count": 256,
     "metadata": {},
     "output_type": "execute_result"
    }
   ],
   "source": [
    "sbds_train[sbds_train.user_id == 3853].time_for_cell.values[0][0]"
   ]
  },
  {
   "cell_type": "code",
   "execution_count": 6,
   "metadata": {
    "collapsed": true
   },
   "outputs": [],
   "source": [
    "bak = pd.read_csv('csi_analyze/dataset/bs_avg_kpi.csv',sep=';', nrows=10)"
   ]
  },
  {
   "cell_type": "code",
   "execution_count": 7,
   "metadata": {
    "collapsed": true
   },
   "outputs": [],
   "source": [
    "columns = bak.columns"
   ]
  },
  {
   "cell_type": "code",
   "execution_count": 9,
   "metadata": {
    "collapsed": true
   },
   "outputs": [],
   "source": [
    "col = {}\n",
    "for i in columns:\n",
    "    col[i] = np.float\n",
    "col['T_DATE'] = np.str\n",
    "col['CELL_LAC_ID'] = np.int32"
   ]
  },
  {
   "cell_type": "code",
   "execution_count": null,
   "metadata": {
    "collapsed": true
   },
   "outputs": [],
   "source": [
    "%%time\n",
    "bak = pd.read_csv('csi_analyze/dataset/bs_avg_kpi.csv',sep=';',  decimal=',', dtype=col)"
   ]
  },
  {
   "cell_type": "code",
   "execution_count": null,
   "metadata": {
    "collapsed": true
   },
   "outputs": [],
   "source": [
    "df"
   ]
  },
  {
   "cell_type": "code",
   "execution_count": null,
   "metadata": {
    "collapsed": true
   },
   "outputs": [],
   "source": []
  }
 ],
 "metadata": {
  "kernelspec": {
   "display_name": "Python 3",
   "language": "python",
   "name": "python3"
  },
  "language_info": {
   "codemirror_mode": {
    "name": "ipython",
    "version": 3
   },
   "file_extension": ".py",
   "mimetype": "text/x-python",
   "name": "python",
   "nbconvert_exporter": "python",
   "pygments_lexer": "ipython3",
   "version": "3.6.6"
  }
 },
 "nbformat": 4,
 "nbformat_minor": 2
}
