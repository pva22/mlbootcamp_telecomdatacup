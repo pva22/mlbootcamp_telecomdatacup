{
 "cells": [
  {
   "cell_type": "code",
   "execution_count": 1,
   "metadata": {
    "collapsed": true
   },
   "outputs": [],
   "source": [
    "import pandas as pd\n",
    "import matplotlib.pyplot as plt\n",
    "import seaborn as sns\n",
    "import numpy as np\n",
    "sns.set()\n",
    "%matplotlib inline\n",
    "import warnings\n",
    "warnings.filterwarnings('ignore')\n",
    "from tqdm import tqdm_notebook"
   ]
  },
  {
   "cell_type": "code",
   "execution_count": 2,
   "metadata": {
    "collapsed": true
   },
   "outputs": [],
   "source": [
    "train = pd.read_csv('csi_analyze/dataset/train/subs_csi_train.csv',sep=';')\n",
    "test = pd.read_csv('csi_analyze/dataset/test/subs_csi_test.csv',sep=';')"
   ]
  },
  {
   "cell_type": "code",
   "execution_count": 3,
   "metadata": {
    "collapsed": true
   },
   "outputs": [],
   "source": [
    "sbds =  {'SK_ID': np.int32, 'CELL_LAC_ID': np.int32 , 'DATA_VOL_MB': np.float32, 'START_TIME': np.str}\n",
    "sbvs = {'SK_ID': np.int32, 'CELL_LAC_ID': np.int32 , 'VOICE_DUR_MIN': np.float32, 'START_TIME': np.str}"
   ]
  },
  {
   "cell_type": "code",
   "execution_count": 4,
   "metadata": {
    "collapsed": true
   },
   "outputs": [],
   "source": [
    "sbc = {'SK_ID': np.int32, 'CELL_LAC_ID': np.int32, 'MON': np.str, 'SUM_MINUTES':np.float32, 'SUM_DATA_MB':np.float32,'SUM_DATA_MIN': np.float32}"
   ]
  },
  {
   "cell_type": "code",
   "execution_count": 5,
   "metadata": {
    "collapsed": true
   },
   "outputs": [],
   "source": [
    "subs_features_train = pd.read_csv('csi_analyze/dataset/train/subs_features_train.csv',sep=';')\n",
    "subs_bs_consumption_train = pd.read_csv('csi_analyze/dataset/train/subs_bs_consumption_train.csv',sep=';',decimal=',', dtype=sbc)\n",
    "\n",
    "subs_bs_data_session_train = pd.read_csv('csi_analyze/dataset/train/subs_bs_data_session_train.csv',sep=';',    decimal=',', dtype=sbds)\n",
    "subs_bs_voice_session_train = pd.read_csv('csi_analyze/dataset/train/subs_bs_voice_session_train.csv',sep=';',  decimal=',', dtype=sbvs)"
   ]
  },
  {
   "cell_type": "code",
   "execution_count": 6,
   "metadata": {
    "collapsed": true
   },
   "outputs": [],
   "source": [
    "subs_features_test = pd.read_csv('csi_analyze/dataset/test/subs_features_test.csv',sep=';')\n",
    "subs_bs_consumption_test = pd.read_csv('csi_analyze/dataset/test/subs_bs_consumption_test.csv',sep=';',decimal=',', dtype=sbc)\n",
    "\n",
    "subs_bs_data_session_test = pd.read_csv('csi_analyze/dataset/test/subs_bs_data_session_test.csv',sep=';', decimal=',', dtype=sbds)\n",
    "subs_bs_voice_session_test = pd.read_csv('csi_analyze/dataset/test/subs_bs_voice_session_test.csv',sep=';', decimal=',', dtype=sbvs)"
   ]
  },
  {
   "cell_type": "markdown",
   "metadata": {},
   "source": [
    "# sf"
   ]
  },
  {
   "cell_type": "code",
   "execution_count": 56,
   "metadata": {
    "collapsed": true
   },
   "outputs": [],
   "source": [
    "subs_features_train['SNAP_DATE'] = subs_features_train['SNAP_DATE'].map(lambda x: x.split('.')[1], na_action='ignore')\n",
    "subs_features_test['SNAP_DATE'] = subs_features_test['SNAP_DATE'].map(lambda x: x.split('.')[1], na_action='ignore')"
   ]
  },
  {
   "cell_type": "code",
   "execution_count": 62,
   "metadata": {},
   "outputs": [
    {
     "data": {
      "application/vnd.jupyter.widget-view+json": {
       "model_id": "d6be88be134b4b03ac2c3e5ca41851f1",
       "version_major": 2,
       "version_minor": 0
      },
      "text/plain": [
       "HBox(children=(IntProgress(value=0, max=4222), HTML(value='')))"
      ]
     },
     "metadata": {},
     "output_type": "display_data"
    },
    {
     "name": "stdout",
     "output_type": "stream",
     "text": [
      "CPU times: user 12min 54s, sys: 3.06 s, total: 12min 57s\n",
      "Wall time: 12min 55s\n"
     ]
    }
   ],
   "source": [
    "%%time\n",
    "sf_train = []\n",
    "\n",
    "for user in tqdm_notebook(subs_features_train.SK_ID.unique()):\n",
    "    d = {}\n",
    "    d['user_id'] = user\n",
    "    for month in subs_features_train[subs_features_train.SK_ID == user].SNAP_DATE.values:\n",
    "        se = subs_features_train[subs_features_train.SK_ID == user][subs_features_train.SNAP_DATE.astype('str') == '{}'.format(month)]\n",
    "        for col in se:\n",
    "            if col not in ['SK_ID', 'SNAP_DATE']:\n",
    "                d[col + '_' + month] = se[col].values[0]\n",
    "    sf_train.append(d)"
   ]
  },
  {
   "cell_type": "code",
   "execution_count": 63,
   "metadata": {},
   "outputs": [
    {
     "data": {
      "application/vnd.jupyter.widget-view+json": {
       "model_id": "cd5f019e6e8f49dabf9bf19167ffb09b",
       "version_major": 2,
       "version_minor": 0
      },
      "text/plain": [
       "HBox(children=(IntProgress(value=0, max=5221), HTML(value='')))"
      ]
     },
     "metadata": {},
     "output_type": "display_data"
    },
    {
     "name": "stdout",
     "output_type": "stream",
     "text": [
      "CPU times: user 18min 42s, sys: 4.14 s, total: 18min 46s\n",
      "Wall time: 18min 43s\n"
     ]
    }
   ],
   "source": [
    "%%time\n",
    "sf_test = []\n",
    "\n",
    "for user in tqdm_notebook(subs_features_test.SK_ID.unique()):\n",
    "    d = {}\n",
    "    d['user_id'] = user\n",
    "    for month in subs_features_test[subs_features_test.SK_ID == user].SNAP_DATE.values:\n",
    "        se = subs_features_test[subs_features_test.SK_ID == user][subs_features_test.SNAP_DATE.astype('str') == '{}'.format(month)]\n",
    "        for col in se:\n",
    "            if col not in ['SK_ID', 'SNAP_DATE']:\n",
    "                d[col + '_' + month] = se[col].values[0]\n",
    "    sf_test.append(d)"
   ]
  },
  {
   "cell_type": "code",
   "execution_count": 64,
   "metadata": {
    "collapsed": true
   },
   "outputs": [],
   "source": [
    "sf_train = pd.DataFrame(sf_train)\n",
    "sf_test = pd.DataFrame(sf_test)"
   ]
  },
  {
   "cell_type": "code",
   "execution_count": 67,
   "metadata": {
    "collapsed": true
   },
   "outputs": [],
   "source": [
    "sf_train.to_csv('data_ready_train/sf_train_new.csv', index=False)\n",
    "sf_test.to_csv('data_ready_train/sf_test_new.csv', index=False)"
   ]
  },
  {
   "cell_type": "code",
   "execution_count": 69,
   "metadata": {
    "collapsed": true
   },
   "outputs": [],
   "source": [
    "# sf_test.user_id = sf_test.user_id.map(lambda x: x[0], na_action='ignore')\n",
    "# sf_train.user_id = sf_train.user_id.map(lambda x: x[0], na_action='ignore')"
   ]
  },
  {
   "cell_type": "markdown",
   "metadata": {},
   "source": [
    "# sbds"
   ]
  },
  {
   "cell_type": "code",
   "execution_count": 70,
   "metadata": {
    "collapsed": true
   },
   "outputs": [],
   "source": [
    "subs_bs_data_session_train['START_TIME'] = subs_bs_data_session_train['START_TIME'].map(lambda x: x.split()[0].split('.')[1], na_action='ignore')\n",
    "subs_bs_data_session_test['START_TIME'] = subs_bs_data_session_test['START_TIME'].map(lambda x: x.split()[0].split('.')[1], na_action='ignore')"
   ]
  },
  {
   "cell_type": "code",
   "execution_count": 79,
   "metadata": {},
   "outputs": [
    {
     "data": {
      "application/vnd.jupyter.widget-view+json": {
       "model_id": "3a84ebaaa0ec4dada9b94f1e1d9f24d0",
       "version_major": 2,
       "version_minor": 0
      },
      "text/plain": [
       "HBox(children=(IntProgress(value=0, max=2924), HTML(value='')))"
      ]
     },
     "metadata": {},
     "output_type": "display_data"
    },
    {
     "name": "stdout",
     "output_type": "stream",
     "text": [
      "CPU times: user 3h 41min 44s, sys: 3min 29s, total: 3h 45min 13s\n",
      "Wall time: 1h 4min 20s\n"
     ]
    }
   ],
   "source": [
    "%%time\n",
    "sbds_train = []\n",
    "\n",
    "for user in tqdm_notebook(subs_bs_data_session_train.SK_ID.unique()):\n",
    "    d = {}\n",
    "    d['user_id'] = user\n",
    "    \n",
    "    for month in subs_bs_data_session_train[subs_bs_data_session_train.SK_ID == user].START_TIME.unique():\n",
    "        \n",
    "        se = subs_bs_data_session_train[(subs_bs_data_session_train.SK_ID == user) & (subs_bs_data_session_train.START_TIME == month)]\n",
    "        for col in se.columns:\n",
    "            \n",
    "            if col == 'CELL_LAC_ID':    \n",
    "                d['cell_id_' + month] = list(se['CELL_LAC_ID'].unique())\n",
    "                \n",
    "            elif col == 'DATA_VOL_MB':\n",
    "                d['data_vol_mb_mean_'+ month] = se['DATA_VOL_MB'].mean()\n",
    "                d['data_vol_mb_sum_'+ month] = se['DATA_VOL_MB'].sum()\n",
    "                d['data_vol_mb_std_'+ month] = se['DATA_VOL_MB'].std()\n",
    "                #d['data_vol_mb_log_sum_'+ month] = np.log(se.sum())\n",
    "                d['data_vol_mb_median_'+ month] = se['DATA_VOL_MB'].median()\n",
    "                d['data_vol_mb_min_'+ month] = se['DATA_VOL_MB'].min()\n",
    "                d['data_vol_mb_max_'+ month] = se['DATA_VOL_MB'].max()\n",
    "                \n",
    "    sbds_train.append(d)"
   ]
  },
  {
   "cell_type": "code",
   "execution_count": 80,
   "metadata": {},
   "outputs": [
    {
     "data": {
      "application/vnd.jupyter.widget-view+json": {
       "model_id": "cee411616fab4849947b8593180403d8",
       "version_major": 2,
       "version_minor": 0
      },
      "text/plain": [
       "HBox(children=(IntProgress(value=0, max=3490), HTML(value='')))"
      ]
     },
     "metadata": {},
     "output_type": "display_data"
    },
    {
     "name": "stdout",
     "output_type": "stream",
     "text": [
      "CPU times: user 4h 35min 48s, sys: 4min 10s, total: 4h 39min 58s\n",
      "Wall time: 1h 28min 28s\n"
     ]
    }
   ],
   "source": [
    "%%time\n",
    "sbds_test = []\n",
    "\n",
    "for user in tqdm_notebook(subs_bs_data_session_test.SK_ID.unique()):\n",
    "    d = {}\n",
    "    d['user_id'] = user\n",
    "    \n",
    "    for month in subs_bs_data_session_test[subs_bs_data_session_test.SK_ID == user].START_TIME.unique():\n",
    "        \n",
    "        se = subs_bs_data_session_test[(subs_bs_data_session_test.SK_ID == user) & (subs_bs_data_session_test.START_TIME == month)]\n",
    "        for col in se.columns:\n",
    "            \n",
    "            if col == 'CELL_LAC_ID':    \n",
    "                d['cell_id_' + month] = list(se['CELL_LAC_ID'].unique())\n",
    "                \n",
    "            elif col == 'DATA_VOL_MB':\n",
    "                d['data_vol_mb_mean_'+ month] = se['DATA_VOL_MB'].mean()\n",
    "                d['data_vol_mb_sum_'+ month] = se['DATA_VOL_MB'].sum()\n",
    "                d['data_vol_mb_std_'+ month] = se['DATA_VOL_MB'].std()\n",
    "                #d['data_vol_mb_log_sum_'+ month] = np.log(se.sum())\n",
    "                d['data_vol_mb_median_'+ month] = se['DATA_VOL_MB'].median()\n",
    "                d['data_vol_mb_min_'+ month] = se['DATA_VOL_MB'].min()\n",
    "                d['data_vol_mb_max_'+ month] = se['DATA_VOL_MB'].max()\n",
    "                \n",
    "    sbds_test.append(d)"
   ]
  },
  {
   "cell_type": "code",
   "execution_count": 81,
   "metadata": {
    "collapsed": true
   },
   "outputs": [],
   "source": [
    "sbds_train = pd.DataFrame(sbds_train)\n",
    "sbds_test = pd.DataFrame(sbds_test)"
   ]
  },
  {
   "cell_type": "code",
   "execution_count": 113,
   "metadata": {
    "collapsed": true
   },
   "outputs": [],
   "source": [
    "sbds_train['count_cell_03'] = sbds_train['cell_id_03'].map(lambda x: len(x), na_action='ignore')\n",
    "sbds_train['count_cell_04'] = sbds_train['cell_id_04'].map(lambda x: len(x), na_action='ignore')\n",
    "sbds_train['count_cell_05'] = sbds_train['cell_id_05'].map(lambda x: len(x), na_action='ignore')"
   ]
  },
  {
   "cell_type": "code",
   "execution_count": 116,
   "metadata": {
    "collapsed": true
   },
   "outputs": [],
   "source": [
    "sbds_test['count_cell_03'] = sbds_test['cell_id_03'].map(lambda x: len(x), na_action='ignore')\n",
    "sbds_test['count_cell_04'] = sbds_test['cell_id_04'].map(lambda x: len(x), na_action='ignore')\n",
    "sbds_test['count_cell_05'] = sbds_test['cell_id_05'].map(lambda x: len(x), na_action='ignore')\n",
    "sbds_test['count_cell_02'] = sbds_test['cell_id_02'].map(lambda x: len(x), na_action='ignore')"
   ]
  },
  {
   "cell_type": "code",
   "execution_count": 118,
   "metadata": {
    "collapsed": true
   },
   "outputs": [],
   "source": [
    "sbds_train.to_csv('data_ready_train/sbds_train_new.csv', index=False)\n",
    "sbds_test.to_csv('data_ready_train/sbds_test_new.csv', index=False)"
   ]
  },
  {
   "cell_type": "markdown",
   "metadata": {},
   "source": [
    "# sbvs"
   ]
  },
  {
   "cell_type": "code",
   "execution_count": 27,
   "metadata": {
    "collapsed": true
   },
   "outputs": [],
   "source": [
    "subs_bs_voice_session_train['START_TIME'] = subs_bs_voice_session_train['START_TIME'].map(lambda x: x.split()[0].split('.')[1], na_action='ignore')\n",
    "subs_bs_voice_session_test['START_TIME'] =  subs_bs_voice_session_test['START_TIME'].map(lambda x: x.split()[0].split('.')[1], na_action='ignore')"
   ]
  },
  {
   "cell_type": "code",
   "execution_count": 121,
   "metadata": {
    "collapsed": true
   },
   "outputs": [],
   "source": [
    "subs_bs_voice_session_train['START_TIME'] = subs_bs_voice_session_train['START_TIME'].map(lambda x: x.split()[0].split('.')[1], na_action='ignore')\n",
    "subs_bs_voice_session_test['START_TIME'] = subs_bs_voice_session_test['START_TIME'].map(lambda x: x.split()[0].split('.')[1], na_action='ignore')"
   ]
  },
  {
   "cell_type": "code",
   "execution_count": 141,
   "metadata": {},
   "outputs": [
    {
     "data": {
      "application/vnd.jupyter.widget-view+json": {
       "model_id": "6f003d86b89948e589e88b1abeda2dbb",
       "version_major": 2,
       "version_minor": 0
      },
      "text/plain": [
       "HBox(children=(IntProgress(value=0, max=4182), HTML(value='')))"
      ]
     },
     "metadata": {},
     "output_type": "display_data"
    },
    {
     "name": "stdout",
     "output_type": "stream",
     "text": [
      "CPU times: user 43min 36s, sys: 5.11 s, total: 43min 42s\n",
      "Wall time: 43min 40s\n"
     ]
    }
   ],
   "source": [
    "%%time\n",
    "sbvs_train = []\n",
    "\n",
    "for user in tqdm_notebook(subs_bs_voice_session_train.SK_ID.unique()):\n",
    "    d = {}\n",
    "    d['user_id'] = user\n",
    "    \n",
    "    for month in subs_bs_voice_session_train[subs_bs_voice_session_train.SK_ID == user].START_TIME.unique():\n",
    "        \n",
    "        se = subs_bs_voice_session_train[(subs_bs_voice_session_train.SK_ID == user) & (subs_bs_voice_session_train.START_TIME == month)]\n",
    "        for col in se.columns:\n",
    "            \n",
    "            if col == 'CELL_LAC_ID':\n",
    "                lc =  list(se['CELL_LAC_ID'].unique())\n",
    "                d['cell_id_' + month] = lc\n",
    "                d['counts_cell_id_' + month] = len(lc)\n",
    "                \n",
    "            elif col == 'VOICE_DUR_MIN':\n",
    "                d['VOICE_DUR_MIN_mean_'+ month] = se['VOICE_DUR_MIN'].mean()\n",
    "                d['VOICE_DUR_MIN_sum_'+ month] = se['VOICE_DUR_MIN'].sum()\n",
    "                \n",
    "    sbvs_train.append(d)"
   ]
  },
  {
   "cell_type": "code",
   "execution_count": 148,
   "metadata": {},
   "outputs": [
    {
     "data": {
      "application/vnd.jupyter.widget-view+json": {
       "model_id": "9e7d0e2b914441c5a1407263da3c9c88",
       "version_major": 2,
       "version_minor": 0
      },
      "text/plain": [
       "HBox(children=(IntProgress(value=0, max=5166), HTML(value='')))"
      ]
     },
     "metadata": {},
     "output_type": "display_data"
    },
    {
     "name": "stdout",
     "output_type": "stream",
     "text": [
      "CPU times: user 59min 55s, sys: 8.95 s, total: 1h 4s\n",
      "Wall time: 1h 1s\n"
     ]
    }
   ],
   "source": [
    "%%time\n",
    "sbvs_test = []\n",
    "\n",
    "for user in tqdm_notebook(subs_bs_voice_session_test.SK_ID.unique()):\n",
    "    d = {}\n",
    "    d['user_id'] = user\n",
    "    \n",
    "    for month in subs_bs_voice_session_test[subs_bs_voice_session_test.SK_ID == user].START_TIME.unique():\n",
    "        \n",
    "        se = subs_bs_voice_session_test[(subs_bs_voice_session_test.SK_ID == user) & (subs_bs_voice_session_test.START_TIME == month)]\n",
    "        for col in se.columns:\n",
    "            \n",
    "            if col == 'CELL_LAC_ID':\n",
    "                lc =  list(se['CELL_LAC_ID'].unique())\n",
    "                d['cell_id_' + month] = lc\n",
    "                d['counts_cell_id_' + month] = len(lc)\n",
    "                \n",
    "            elif col == 'VOICE_DUR_MIN':\n",
    "                d['VOICE_DUR_MIN_mean_'+ month] = se['VOICE_DUR_MIN'].mean()\n",
    "                d['VOICE_DUR_MIN_sum_'+ month] = se['VOICE_DUR_MIN'].sum()\n",
    "                \n",
    "    sbvs_test.append(d)"
   ]
  },
  {
   "cell_type": "code",
   "execution_count": 152,
   "metadata": {
    "collapsed": true
   },
   "outputs": [],
   "source": [
    "sbvs_test = pd.DataFrame(sbvs_test)\n",
    "sbvs_train = pd.DataFrame(sbvs_train)"
   ]
  },
  {
   "cell_type": "code",
   "execution_count": 157,
   "metadata": {},
   "outputs": [
    {
     "data": {
      "text/plain": [
       "{'VOICE_DUR_MIN_mean_02',\n",
       " 'VOICE_DUR_MIN_sum_02',\n",
       " 'cell_id_02',\n",
       " 'counts_cell_id_02'}"
      ]
     },
     "execution_count": 157,
     "metadata": {},
     "output_type": "execute_result"
    }
   ],
   "source": [
    "set(sbvs_test) - set(sbvs_train)"
   ]
  },
  {
   "cell_type": "code",
   "execution_count": 153,
   "metadata": {
    "collapsed": true
   },
   "outputs": [],
   "source": [
    "sbvs_train.to_csv('data_ready_train/sbvs_train_new.csv', index=False)\n",
    "sbvs_test.to_csv('data_ready_train/sbvs_test_new.csv', index=False)"
   ]
  },
  {
   "cell_type": "markdown",
   "metadata": {},
   "source": [
    "# sbс"
   ]
  },
  {
   "cell_type": "code",
   "execution_count": 182,
   "metadata": {
    "collapsed": true
   },
   "outputs": [],
   "source": [
    "subs_bs_consumption_train.MON = subs_bs_consumption_train.MON.map(lambda x: str(x).split('.')[1], na_action='ignore')\n",
    "subs_bs_consumption_test.MON = subs_bs_consumption_test.MON.map(lambda x: str(x).split('.')[1], na_action='ignore')"
   ]
  },
  {
   "cell_type": "code",
   "execution_count": 200,
   "metadata": {},
   "outputs": [
    {
     "data": {
      "application/vnd.jupyter.widget-view+json": {
       "model_id": "287700930c4446489a0488a9fe532a96",
       "version_major": 2,
       "version_minor": 0
      },
      "text/plain": [
       "HBox(children=(IntProgress(value=0, max=4215), HTML(value='')))"
      ]
     },
     "metadata": {},
     "output_type": "display_data"
    },
    {
     "name": "stdout",
     "output_type": "stream",
     "text": [
      "CPU times: user 30min 3s, sys: 2.15 s, total: 30min 5s\n",
      "Wall time: 30min 4s\n"
     ]
    }
   ],
   "source": [
    "%%time\n",
    "sbvs_train = []\n",
    "\n",
    "for user in tqdm_notebook(subs_bs_consumption_train.SK_ID.unique()):\n",
    "    d = {}\n",
    "    d['user_id'] = user\n",
    "    \n",
    "    for month in subs_bs_consumption_train[subs_bs_consumption_train.SK_ID == user].MON.unique():\n",
    "        \n",
    "        se = subs_bs_consumption_train[(subs_bs_consumption_train.SK_ID == user) & (subs_bs_consumption_train.MON == month)]\n",
    "        for col in se.columns:\n",
    "            \n",
    "            if col == 'CELL_LAC_ID':\n",
    "                lc =  list(se['CELL_LAC_ID'].unique())\n",
    "                d['cell_id_' + month] = lc\n",
    "                d['counts_cell_id_' + month] = len(lc)\n",
    "                \n",
    "            elif col == 'SUM_MINUTES':\n",
    "                d['SUM_MINUTES_mean_'+ month] = se['SUM_MINUTES'].mean()\n",
    "                d['SUM_MINUTES_sum_'+ month] = se['SUM_MINUTES'].sum()\n",
    "                \n",
    "            elif col == 'SUM_DATA_MB':\n",
    "                d['SUM_DATA_MB_mean_'+ month] = se['SUM_DATA_MB'].mean()\n",
    "                d['SUM_DATA_MB_sum_'+ month] = se['SUM_DATA_MB'].sum()\n",
    "                \n",
    "            elif col == 'SUM_DATA_MIN':\n",
    "                d['SUM_DATA_MIN_mean_'+ month] = se['SUM_DATA_MIN'].mean()\n",
    "                d['SUM_DATA_MIN_sum_'+ month] = se['SUM_DATA_MIN'].sum()\n",
    "                \n",
    "    sbvs_train.append(d)"
   ]
  },
  {
   "cell_type": "code",
   "execution_count": 201,
   "metadata": {},
   "outputs": [
    {
     "data": {
      "application/vnd.jupyter.widget-view+json": {
       "model_id": "dd13553c7f254c768578bd8f5a969adf",
       "version_major": 2,
       "version_minor": 0
      },
      "text/plain": [
       "HBox(children=(IntProgress(value=0, max=5211), HTML(value='')))"
      ]
     },
     "metadata": {},
     "output_type": "display_data"
    },
    {
     "name": "stdout",
     "output_type": "stream",
     "text": [
      "CPU times: user 39min 53s, sys: 2.63 s, total: 39min 55s\n",
      "Wall time: 39min 54s\n"
     ]
    }
   ],
   "source": [
    "%%time\n",
    "sbvs_test = []\n",
    "\n",
    "for user in tqdm_notebook(subs_bs_consumption_test.SK_ID.unique()):\n",
    "    d = {}\n",
    "    d['user_id'] = user\n",
    "    \n",
    "    for month in subs_bs_consumption_test[subs_bs_consumption_test.SK_ID == user].MON.unique():\n",
    "        \n",
    "        se = subs_bs_consumption_test[(subs_bs_consumption_test.SK_ID == user) & (subs_bs_consumption_test.MON == month)]\n",
    "        for col in se.columns:\n",
    "            \n",
    "            if col == 'CELL_LAC_ID':\n",
    "                lc =  list(se['CELL_LAC_ID'].unique())\n",
    "                d['cell_id_' + month] = lc\n",
    "                d['counts_cell_id_' + month] = len(lc)\n",
    "                \n",
    "            elif col == 'SUM_MINUTES':\n",
    "                d['SUM_MINUTES_mean_'+ month] = se['SUM_MINUTES'].mean()\n",
    "                d['SUM_MINUTES_sum_'+ month] = se['SUM_MINUTES'].sum()\n",
    "                \n",
    "            elif col == 'SUM_DATA_MB':\n",
    "                d['SUM_DATA_MB_mean_'+ month] = se['SUM_DATA_MB'].mean()\n",
    "                d['SUM_DATA_MB_sum_'+ month] = se['SUM_DATA_MB'].sum()\n",
    "                \n",
    "            elif col == 'SUM_DATA_MIN':\n",
    "                d['SUM_DATA_MIN_mean_'+ month] = se['SUM_DATA_MIN'].mean()\n",
    "                d['SUM_DATA_MIN_sum_'+ month] = se['SUM_DATA_MIN'].sum()\n",
    "                \n",
    "    sbvs_test.append(d)"
   ]
  },
  {
   "cell_type": "code",
   "execution_count": 203,
   "metadata": {
    "collapsed": true
   },
   "outputs": [],
   "source": [
    "sbvs_test = pd.DataFrame(sbvs_test)\n",
    "sbvs_train = pd.DataFrame(sbvs_train)"
   ]
  },
  {
   "cell_type": "code",
   "execution_count": 204,
   "metadata": {
    "collapsed": true
   },
   "outputs": [],
   "source": [
    "sbvs_train.to_csv('data_ready_train/sbc_train_new.csv', index=False)\n",
    "sbvs_test.to_csv('data_ready_train/sbc_test_new.csv', index=False)"
   ]
  },
  {
   "cell_type": "code",
   "execution_count": null,
   "metadata": {
    "collapsed": true
   },
   "outputs": [],
   "source": []
  }
 ],
 "metadata": {
  "kernelspec": {
   "display_name": "Python 3",
   "language": "python",
   "name": "python3"
  },
  "language_info": {
   "codemirror_mode": {
    "name": "ipython",
    "version": 3
   },
   "file_extension": ".py",
   "mimetype": "text/x-python",
   "name": "python",
   "nbconvert_exporter": "python",
   "pygments_lexer": "ipython3",
   "version": "3.6.6"
  }
 },
 "nbformat": 4,
 "nbformat_minor": 2
}
