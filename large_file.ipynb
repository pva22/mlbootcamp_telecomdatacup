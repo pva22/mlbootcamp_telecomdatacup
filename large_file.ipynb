{
 "cells": [
  {
   "cell_type": "code",
   "execution_count": 17,
   "metadata": {
    "collapsed": true
   },
   "outputs": [],
   "source": [
    "import pandas as pd\n",
    "import numpy as np"
   ]
  },
  {
   "cell_type": "code",
   "execution_count": null,
   "metadata": {
    "collapsed": true
   },
   "outputs": [],
   "source": []
  },
  {
   "cell_type": "code",
   "execution_count": 3,
   "metadata": {
    "collapsed": true
   },
   "outputs": [
    {
     "name": "stderr",
     "output_type": "stream",
     "text": [
      "/home/ubuntu/anaconda3/lib/python3.6/site-packages/IPython/core/interactiveshell.py:2717: DtypeWarning: Columns (25,26) have mixed types. Specify dtype option on import or set low_memory=False.\n",
      "  interactivity=interactivity, compiler=compiler, result=result)\n",
      "/home/ubuntu/anaconda3/lib/python3.6/site-packages/IPython/core/interactiveshell.py:2717: DtypeWarning: Columns (20,25,26) have mixed types. Specify dtype option on import or set low_memory=False.\n",
      "  interactivity=interactivity, compiler=compiler, result=result)\n",
      "/home/ubuntu/anaconda3/lib/python3.6/site-packages/IPython/core/interactiveshell.py:2717: DtypeWarning: Columns (8,9,20,22,24,25,26,27,28) have mixed types. Specify dtype option on import or set low_memory=False.\n",
      "  interactivity=interactivity, compiler=compiler, result=result)\n",
      "/home/ubuntu/anaconda3/lib/python3.6/site-packages/IPython/core/interactiveshell.py:2717: DtypeWarning: Columns (7,8,9,12,13,17,22,24,25,26,27,28,30,40,41) have mixed types. Specify dtype option on import or set low_memory=False.\n",
      "  interactivity=interactivity, compiler=compiler, result=result)\n",
      "/home/ubuntu/anaconda3/lib/python3.6/site-packages/IPython/core/interactiveshell.py:2717: DtypeWarning: Columns (2,7,8,9,12,13,17,22,24,25,26,27,28,30,40,41) have mixed types. Specify dtype option on import or set low_memory=False.\n",
      "  interactivity=interactivity, compiler=compiler, result=result)\n",
      "/home/ubuntu/anaconda3/lib/python3.6/site-packages/IPython/core/interactiveshell.py:2717: DtypeWarning: Columns (8,9,22,24,25,26,27,28) have mixed types. Specify dtype option on import or set low_memory=False.\n",
      "  interactivity=interactivity, compiler=compiler, result=result)\n"
     ]
    }
   ],
   "source": [
    "n = 0\n",
    "chunksize = 10 ** 6\n",
    "for chunk in pd.read_csv('csi_analyze/bs_avg_kpi.csv',sep=';', chunksize=chunksize):\n",
    "    n = n + 1\n",
    "    df = pd.DataFrame(chunk)\n",
    "    df.to_csv('bs_avg_kpi_{}.csv'.format(n))"
   ]
  },
  {
   "cell_type": "code",
   "execution_count": 6,
   "metadata": {
    "collapsed": true
   },
   "outputs": [
    {
     "name": "stderr",
     "output_type": "stream",
     "text": [
      "/home/ubuntu/anaconda3/lib/python3.6/site-packages/IPython/core/interactiveshell.py:2717: DtypeWarning: Columns (27) have mixed types. Specify dtype option on import or set low_memory=False.\n",
      "  interactivity=interactivity, compiler=compiler, result=result)\n"
     ]
    }
   ],
   "source": [
    "n = 0\n",
    "chunksize = 10 ** 6\n",
    "for chunk in pd.read_csv('csi_analyze/bs_chnn_kpi.csv',sep=';', chunksize=chunksize):\n",
    "    n = n + 1\n",
    "    df = pd.DataFrame(chunk)\n",
    "    df.to_csv('csi_analyze/bck/bs_chnn_kpi_{}.csv'.format(n))"
   ]
  },
  {
   "cell_type": "code",
   "execution_count": 3,
   "metadata": {},
   "outputs": [
    {
     "name": "stdout",
     "output_type": "stream",
     "text": [
      "bak  bck  bs_avg_kpi.csv  bs_chnn_kpi.csv  test  train\r\n"
     ]
    }
   ],
   "source": [
    "!ls csi_analyze"
   ]
  },
  {
   "cell_type": "code",
   "execution_count": 38,
   "metadata": {},
   "outputs": [
    {
     "name": "stdout",
     "output_type": "stream",
     "text": [
      "CPU times: user 1min 54s, sys: 16.8 s, total: 2min 11s\n",
      "Wall time: 2min 27s\n"
     ]
    }
   ],
   "source": [
    "%%time\n",
    "df = pd.read_csv('csi_analyze/bs_avg_kpi.csv',sep=';', decimal=',', dtype=d)"
   ]
  },
  {
   "cell_type": "code",
   "execution_count": 1,
   "metadata": {},
   "outputs": [
    {
     "ename": "NameError",
     "evalue": "name 'd' is not defined",
     "output_type": "error",
     "traceback": [
      "\u001b[0;31m---------------------------------------------------------------------------\u001b[0m",
      "\u001b[0;31mNameError\u001b[0m                                 Traceback (most recent call last)",
      "\u001b[0;32m<ipython-input-1-e29311f6f1bf>\u001b[0m in \u001b[0;36m<module>\u001b[0;34m()\u001b[0m\n\u001b[0;32m----> 1\u001b[0;31m \u001b[0md\u001b[0m\u001b[0;34m\u001b[0m\u001b[0m\n\u001b[0m",
      "\u001b[0;31mNameError\u001b[0m: name 'd' is not defined"
     ]
    }
   ],
   "source": [
    "d"
   ]
  },
  {
   "cell_type": "code",
   "execution_count": 41,
   "metadata": {},
   "outputs": [
    {
     "data": {
      "text/plain": [
       "array([['01.05', 292109, nan, ..., 0.0165557861328125, nan, nan],\n",
       "       ['01.05', 338482, nan, ..., 0.061767578125, nan, nan],\n",
       "       ['01.05', 174589, nan, ..., 0.076416015625, nan, nan],\n",
       "       ...,\n",
       "       ['23.04', 102698, 1.0, ..., nan, 0.0223236083984375,\n",
       "        0.0022487640380859375],\n",
       "       ['23.04', 303148, 1.0, ..., nan, nan, nan],\n",
       "       ['23.04', 346731, 1.0, ..., nan, 0.03143310546875,\n",
       "        0.0029754638671875]], dtype=object)"
      ]
     },
     "execution_count": 41,
     "metadata": {},
     "output_type": "execute_result"
    }
   ],
   "source": [
    "df.head(100).values"
   ]
  },
  {
   "cell_type": "code",
   "execution_count": 56,
   "metadata": {
    "collapsed": true
   },
   "outputs": [],
   "source": [
    "df2 = pd.read_csv('csi_analyze/bak/bs_avg_kpi_1.csv',nrows=150)"
   ]
  },
  {
   "cell_type": "code",
   "execution_count": 60,
   "metadata": {
    "collapsed": true
   },
   "outputs": [],
   "source": [
    "df2 = df2.drop(['Unnamed: 0'], axis=1)"
   ]
  },
  {
   "cell_type": "code",
   "execution_count": 64,
   "metadata": {},
   "outputs": [
    {
     "data": {
      "text/plain": [
       "array([[1.05, 292109, nan, ..., ',016561', nan, nan],\n",
       "       [1.05, 338482, nan, ..., ',061778', nan, nan],\n",
       "       [1.05, 174589, nan, ..., ',076418', nan, nan],\n",
       "       ...,\n",
       "       [23.04, 102698, 1.0, ..., nan, ',022317', ',002249'],\n",
       "       [23.04, 303148, 1.0, ..., nan, nan, nan],\n",
       "       [23.04, 346731, 1.0, ..., nan, ',031442', ',002975']], dtype=object)"
      ]
     },
     "execution_count": 64,
     "metadata": {},
     "output_type": "execute_result"
    }
   ],
   "source": [
    "df2.head(100).values"
   ]
  },
  {
   "cell_type": "code",
   "execution_count": 65,
   "metadata": {},
   "outputs": [
    {
     "data": {
      "text/plain": [
       "array([['01.05', 292109, nan, ..., 0.0165557861328125, nan, nan],\n",
       "       ['01.05', 338482, nan, ..., 0.061767578125, nan, nan],\n",
       "       ['01.05', 174589, nan, ..., 0.076416015625, nan, nan],\n",
       "       ...,\n",
       "       ['23.04', 102698, 1.0, ..., nan, 0.0223236083984375,\n",
       "        0.0022487640380859375],\n",
       "       ['23.04', 303148, 1.0, ..., nan, nan, nan],\n",
       "       ['23.04', 346731, 1.0, ..., nan, 0.03143310546875,\n",
       "        0.0029754638671875]], dtype=object)"
      ]
     },
     "execution_count": 65,
     "metadata": {},
     "output_type": "execute_result"
    }
   ],
   "source": [
    "df.head(100).values"
   ]
  },
  {
   "cell_type": "code",
   "execution_count": null,
   "metadata": {
    "collapsed": true
   },
   "outputs": [],
   "source": []
  }
 ],
 "metadata": {
  "kernelspec": {
   "display_name": "Python 3",
   "language": "python",
   "name": "python3"
  },
  "language_info": {
   "codemirror_mode": {
    "name": "ipython",
    "version": 3
   },
   "file_extension": ".py",
   "mimetype": "text/x-python",
   "name": "python",
   "nbconvert_exporter": "python",
   "pygments_lexer": "ipython3",
   "version": "3.6.6"
  }
 },
 "nbformat": 4,
 "nbformat_minor": 2
}
